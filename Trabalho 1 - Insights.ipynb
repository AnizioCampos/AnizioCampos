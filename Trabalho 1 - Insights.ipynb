{
 "cells": [
  {
   "cell_type": "code",
   "execution_count": 2,
   "metadata": {},
   "outputs": [],
   "source": [
    "import numpy as np\n",
    "import pandas as pd\n",
    "import matplotlib\n",
    "import matplotlib.pyplot as plt\n",
    "import seaborn as sns\n",
    "import pandas_profiling\n",
    "import ppscore as pps\n",
    "\n",
    "%matplotlib inline"
   ]
  },
  {
   "cell_type": "markdown",
   "metadata": {},
   "source": [
    "CONVENÇÕES USADAS NESTA ANÁLISE:\n",
    "- os nomes das colunas estarão em MAIÚSCULO nos comentários para se destacar - exemplos: ID_SOLICITANTE, PRODUTO_SOLICITADO\n",
    "- Sempre que uma função ou um método de alguma biblioteca for usado pela primeira vez haverá uma breve explicação sobre ele"
   ]
  },
  {
   "cell_type": "code",
   "execution_count": 3,
   "metadata": {},
   "outputs": [],
   "source": [
    "#IMPORTANDO OS DADOS\n",
    "\n",
    "#importei os dados de Treino com o -pd.read_csv-\n",
    "train = pd.read_csv('conjunto_de_treinamento.csv')\n",
    "#importei os dados de Teste com o -pd.read_csv-\n",
    "test = pd.read_csv('conjunto_de_teste.csv')"
   ]
  },
  {
   "cell_type": "markdown",
   "metadata": {},
   "source": [
    "# EXPLORAÇÃO DOS DADOS"
   ]
  },
  {
   "cell_type": "code",
   "execution_count": 425,
   "metadata": {},
   "outputs": [
    {
     "data": {
      "text/html": [
       "<div>\n",
       "<style scoped>\n",
       "    .dataframe tbody tr th:only-of-type {\n",
       "        vertical-align: middle;\n",
       "    }\n",
       "\n",
       "    .dataframe tbody tr th {\n",
       "        vertical-align: top;\n",
       "    }\n",
       "\n",
       "    .dataframe thead th {\n",
       "        text-align: right;\n",
       "    }\n",
       "</style>\n",
       "<table border=\"1\" class=\"dataframe\">\n",
       "  <thead>\n",
       "    <tr style=\"text-align: right;\">\n",
       "      <th></th>\n",
       "      <th>0</th>\n",
       "      <th>1</th>\n",
       "      <th>2</th>\n",
       "      <th>3</th>\n",
       "      <th>4</th>\n",
       "      <th>5</th>\n",
       "      <th>6</th>\n",
       "      <th>7</th>\n",
       "      <th>8</th>\n",
       "      <th>9</th>\n",
       "    </tr>\n",
       "  </thead>\n",
       "  <tbody>\n",
       "    <tr>\n",
       "      <th>id_solicitante</th>\n",
       "      <td>1</td>\n",
       "      <td>2</td>\n",
       "      <td>3</td>\n",
       "      <td>4</td>\n",
       "      <td>5</td>\n",
       "      <td>6</td>\n",
       "      <td>7</td>\n",
       "      <td>8</td>\n",
       "      <td>9</td>\n",
       "      <td>10</td>\n",
       "    </tr>\n",
       "    <tr>\n",
       "      <th>produto_solicitado</th>\n",
       "      <td>1</td>\n",
       "      <td>1</td>\n",
       "      <td>1</td>\n",
       "      <td>1</td>\n",
       "      <td>7</td>\n",
       "      <td>1</td>\n",
       "      <td>1</td>\n",
       "      <td>1</td>\n",
       "      <td>2</td>\n",
       "      <td>1</td>\n",
       "    </tr>\n",
       "    <tr>\n",
       "      <th>dia_vencimento</th>\n",
       "      <td>10</td>\n",
       "      <td>25</td>\n",
       "      <td>20</td>\n",
       "      <td>20</td>\n",
       "      <td>1</td>\n",
       "      <td>20</td>\n",
       "      <td>15</td>\n",
       "      <td>5</td>\n",
       "      <td>25</td>\n",
       "      <td>10</td>\n",
       "    </tr>\n",
       "    <tr>\n",
       "      <th>forma_envio_solicitacao</th>\n",
       "      <td>presencial</td>\n",
       "      <td>internet</td>\n",
       "      <td>internet</td>\n",
       "      <td>internet</td>\n",
       "      <td>internet</td>\n",
       "      <td>presencial</td>\n",
       "      <td>presencial</td>\n",
       "      <td>internet</td>\n",
       "      <td>internet</td>\n",
       "      <td>presencial</td>\n",
       "    </tr>\n",
       "    <tr>\n",
       "      <th>tipo_endereco</th>\n",
       "      <td>1</td>\n",
       "      <td>1</td>\n",
       "      <td>1</td>\n",
       "      <td>1</td>\n",
       "      <td>1</td>\n",
       "      <td>1</td>\n",
       "      <td>1</td>\n",
       "      <td>1</td>\n",
       "      <td>1</td>\n",
       "      <td>1</td>\n",
       "    </tr>\n",
       "    <tr>\n",
       "      <th>sexo</th>\n",
       "      <td>M</td>\n",
       "      <td>F</td>\n",
       "      <td>F</td>\n",
       "      <td>M</td>\n",
       "      <td>F</td>\n",
       "      <td>M</td>\n",
       "      <td>F</td>\n",
       "      <td>F</td>\n",
       "      <td>F</td>\n",
       "      <td>M</td>\n",
       "    </tr>\n",
       "    <tr>\n",
       "      <th>idade</th>\n",
       "      <td>85</td>\n",
       "      <td>38</td>\n",
       "      <td>37</td>\n",
       "      <td>37</td>\n",
       "      <td>51</td>\n",
       "      <td>21</td>\n",
       "      <td>64</td>\n",
       "      <td>20</td>\n",
       "      <td>39</td>\n",
       "      <td>44</td>\n",
       "    </tr>\n",
       "    <tr>\n",
       "      <th>estado_civil</th>\n",
       "      <td>2</td>\n",
       "      <td>1</td>\n",
       "      <td>2</td>\n",
       "      <td>1</td>\n",
       "      <td>1</td>\n",
       "      <td>1</td>\n",
       "      <td>4</td>\n",
       "      <td>1</td>\n",
       "      <td>2</td>\n",
       "      <td>2</td>\n",
       "    </tr>\n",
       "    <tr>\n",
       "      <th>qtde_dependentes</th>\n",
       "      <td>0</td>\n",
       "      <td>0</td>\n",
       "      <td>0</td>\n",
       "      <td>1</td>\n",
       "      <td>3</td>\n",
       "      <td>1</td>\n",
       "      <td>2</td>\n",
       "      <td>0</td>\n",
       "      <td>2</td>\n",
       "      <td>2</td>\n",
       "    </tr>\n",
       "    <tr>\n",
       "      <th>grau_instrucao</th>\n",
       "      <td>0</td>\n",
       "      <td>0</td>\n",
       "      <td>0</td>\n",
       "      <td>0</td>\n",
       "      <td>0</td>\n",
       "      <td>0</td>\n",
       "      <td>0</td>\n",
       "      <td>0</td>\n",
       "      <td>0</td>\n",
       "      <td>0</td>\n",
       "    </tr>\n",
       "    <tr>\n",
       "      <th>nacionalidade</th>\n",
       "      <td>1</td>\n",
       "      <td>1</td>\n",
       "      <td>1</td>\n",
       "      <td>1</td>\n",
       "      <td>1</td>\n",
       "      <td>1</td>\n",
       "      <td>1</td>\n",
       "      <td>1</td>\n",
       "      <td>1</td>\n",
       "      <td>1</td>\n",
       "    </tr>\n",
       "    <tr>\n",
       "      <th>estado_onde_nasceu</th>\n",
       "      <td>CE</td>\n",
       "      <td>SE</td>\n",
       "      <td>BA</td>\n",
       "      <td>RS</td>\n",
       "      <td>BA</td>\n",
       "      <td>CE</td>\n",
       "      <td>SP</td>\n",
       "      <td>ES</td>\n",
       "      <td>GO</td>\n",
       "      <td>RS</td>\n",
       "    </tr>\n",
       "    <tr>\n",
       "      <th>estado_onde_reside</th>\n",
       "      <td>CE</td>\n",
       "      <td>SE</td>\n",
       "      <td>BA</td>\n",
       "      <td>RS</td>\n",
       "      <td>BA</td>\n",
       "      <td>CE</td>\n",
       "      <td>SP</td>\n",
       "      <td>ES</td>\n",
       "      <td>GO</td>\n",
       "      <td>RS</td>\n",
       "    </tr>\n",
       "    <tr>\n",
       "      <th>possui_telefone_residencial</th>\n",
       "      <td>Y</td>\n",
       "      <td>Y</td>\n",
       "      <td>Y</td>\n",
       "      <td>Y</td>\n",
       "      <td>Y</td>\n",
       "      <td>Y</td>\n",
       "      <td>Y</td>\n",
       "      <td>Y</td>\n",
       "      <td>Y</td>\n",
       "      <td>N</td>\n",
       "    </tr>\n",
       "    <tr>\n",
       "      <th>codigo_area_telefone_residencial</th>\n",
       "      <td>107</td>\n",
       "      <td>91</td>\n",
       "      <td>90</td>\n",
       "      <td>54</td>\n",
       "      <td>86</td>\n",
       "      <td>107</td>\n",
       "      <td>16</td>\n",
       "      <td>25</td>\n",
       "      <td>67</td>\n",
       "      <td></td>\n",
       "    </tr>\n",
       "    <tr>\n",
       "      <th>tipo_residencia</th>\n",
       "      <td>1</td>\n",
       "      <td>1</td>\n",
       "      <td>5</td>\n",
       "      <td>1</td>\n",
       "      <td>0</td>\n",
       "      <td>5</td>\n",
       "      <td>1</td>\n",
       "      <td>1</td>\n",
       "      <td>1</td>\n",
       "      <td>1</td>\n",
       "    </tr>\n",
       "    <tr>\n",
       "      <th>meses_na_residencia</th>\n",
       "      <td>12</td>\n",
       "      <td>5</td>\n",
       "      <td>1</td>\n",
       "      <td>1</td>\n",
       "      <td>1</td>\n",
       "      <td>2</td>\n",
       "      <td>0</td>\n",
       "      <td>5</td>\n",
       "      <td>3</td>\n",
       "      <td>15</td>\n",
       "    </tr>\n",
       "    <tr>\n",
       "      <th>possui_telefone_celular</th>\n",
       "      <td>N</td>\n",
       "      <td>N</td>\n",
       "      <td>N</td>\n",
       "      <td>N</td>\n",
       "      <td>N</td>\n",
       "      <td>N</td>\n",
       "      <td>N</td>\n",
       "      <td>N</td>\n",
       "      <td>N</td>\n",
       "      <td>N</td>\n",
       "    </tr>\n",
       "    <tr>\n",
       "      <th>possui_email</th>\n",
       "      <td>0</td>\n",
       "      <td>1</td>\n",
       "      <td>1</td>\n",
       "      <td>1</td>\n",
       "      <td>1</td>\n",
       "      <td>0</td>\n",
       "      <td>1</td>\n",
       "      <td>1</td>\n",
       "      <td>1</td>\n",
       "      <td>0</td>\n",
       "    </tr>\n",
       "    <tr>\n",
       "      <th>renda_mensal_regular</th>\n",
       "      <td>480</td>\n",
       "      <td>380</td>\n",
       "      <td>600</td>\n",
       "      <td>460</td>\n",
       "      <td>687</td>\n",
       "      <td>382</td>\n",
       "      <td>350</td>\n",
       "      <td>800</td>\n",
       "      <td>1200</td>\n",
       "      <td>749</td>\n",
       "    </tr>\n",
       "    <tr>\n",
       "      <th>renda_extra</th>\n",
       "      <td>0</td>\n",
       "      <td>0</td>\n",
       "      <td>0</td>\n",
       "      <td>0</td>\n",
       "      <td>600</td>\n",
       "      <td>0</td>\n",
       "      <td>0</td>\n",
       "      <td>0</td>\n",
       "      <td>0</td>\n",
       "      <td>0</td>\n",
       "    </tr>\n",
       "    <tr>\n",
       "      <th>possui_cartao_visa</th>\n",
       "      <td>0</td>\n",
       "      <td>0</td>\n",
       "      <td>0</td>\n",
       "      <td>0</td>\n",
       "      <td>0</td>\n",
       "      <td>1</td>\n",
       "      <td>0</td>\n",
       "      <td>0</td>\n",
       "      <td>1</td>\n",
       "      <td>0</td>\n",
       "    </tr>\n",
       "    <tr>\n",
       "      <th>possui_cartao_mastercard</th>\n",
       "      <td>0</td>\n",
       "      <td>0</td>\n",
       "      <td>0</td>\n",
       "      <td>0</td>\n",
       "      <td>0</td>\n",
       "      <td>0</td>\n",
       "      <td>0</td>\n",
       "      <td>0</td>\n",
       "      <td>0</td>\n",
       "      <td>0</td>\n",
       "    </tr>\n",
       "    <tr>\n",
       "      <th>possui_cartao_diners</th>\n",
       "      <td>0</td>\n",
       "      <td>0</td>\n",
       "      <td>0</td>\n",
       "      <td>0</td>\n",
       "      <td>0</td>\n",
       "      <td>0</td>\n",
       "      <td>0</td>\n",
       "      <td>0</td>\n",
       "      <td>0</td>\n",
       "      <td>0</td>\n",
       "    </tr>\n",
       "    <tr>\n",
       "      <th>possui_cartao_amex</th>\n",
       "      <td>0</td>\n",
       "      <td>0</td>\n",
       "      <td>0</td>\n",
       "      <td>0</td>\n",
       "      <td>0</td>\n",
       "      <td>0</td>\n",
       "      <td>0</td>\n",
       "      <td>0</td>\n",
       "      <td>0</td>\n",
       "      <td>0</td>\n",
       "    </tr>\n",
       "    <tr>\n",
       "      <th>possui_outros_cartoes</th>\n",
       "      <td>0</td>\n",
       "      <td>0</td>\n",
       "      <td>0</td>\n",
       "      <td>0</td>\n",
       "      <td>0</td>\n",
       "      <td>0</td>\n",
       "      <td>0</td>\n",
       "      <td>0</td>\n",
       "      <td>0</td>\n",
       "      <td>0</td>\n",
       "    </tr>\n",
       "    <tr>\n",
       "      <th>qtde_contas_bancarias</th>\n",
       "      <td>1</td>\n",
       "      <td>0</td>\n",
       "      <td>0</td>\n",
       "      <td>0</td>\n",
       "      <td>0</td>\n",
       "      <td>0</td>\n",
       "      <td>1</td>\n",
       "      <td>0</td>\n",
       "      <td>0</td>\n",
       "      <td>1</td>\n",
       "    </tr>\n",
       "    <tr>\n",
       "      <th>qtde_contas_bancarias_especiais</th>\n",
       "      <td>1</td>\n",
       "      <td>0</td>\n",
       "      <td>0</td>\n",
       "      <td>0</td>\n",
       "      <td>0</td>\n",
       "      <td>0</td>\n",
       "      <td>1</td>\n",
       "      <td>0</td>\n",
       "      <td>0</td>\n",
       "      <td>1</td>\n",
       "    </tr>\n",
       "    <tr>\n",
       "      <th>valor_patrimonio_pessoal</th>\n",
       "      <td>0</td>\n",
       "      <td>0</td>\n",
       "      <td>0</td>\n",
       "      <td>0</td>\n",
       "      <td>0</td>\n",
       "      <td>0</td>\n",
       "      <td>0</td>\n",
       "      <td>0</td>\n",
       "      <td>0</td>\n",
       "      <td>0</td>\n",
       "    </tr>\n",
       "    <tr>\n",
       "      <th>possui_carro</th>\n",
       "      <td>1</td>\n",
       "      <td>0</td>\n",
       "      <td>0</td>\n",
       "      <td>0</td>\n",
       "      <td>1</td>\n",
       "      <td>1</td>\n",
       "      <td>1</td>\n",
       "      <td>0</td>\n",
       "      <td>0</td>\n",
       "      <td>1</td>\n",
       "    </tr>\n",
       "    <tr>\n",
       "      <th>vinculo_formal_com_empresa</th>\n",
       "      <td>N</td>\n",
       "      <td>N</td>\n",
       "      <td>N</td>\n",
       "      <td>Y</td>\n",
       "      <td>Y</td>\n",
       "      <td>Y</td>\n",
       "      <td>N</td>\n",
       "      <td>N</td>\n",
       "      <td>Y</td>\n",
       "      <td>Y</td>\n",
       "    </tr>\n",
       "    <tr>\n",
       "      <th>estado_onde_trabalha</th>\n",
       "      <td></td>\n",
       "      <td></td>\n",
       "      <td></td>\n",
       "      <td>RS</td>\n",
       "      <td>BA</td>\n",
       "      <td>CE</td>\n",
       "      <td></td>\n",
       "      <td></td>\n",
       "      <td></td>\n",
       "      <td>RS</td>\n",
       "    </tr>\n",
       "    <tr>\n",
       "      <th>possui_telefone_trabalho</th>\n",
       "      <td>N</td>\n",
       "      <td>N</td>\n",
       "      <td>N</td>\n",
       "      <td>Y</td>\n",
       "      <td>N</td>\n",
       "      <td>Y</td>\n",
       "      <td>N</td>\n",
       "      <td>N</td>\n",
       "      <td>Y</td>\n",
       "      <td>N</td>\n",
       "    </tr>\n",
       "    <tr>\n",
       "      <th>codigo_area_telefone_trabalho</th>\n",
       "      <td></td>\n",
       "      <td></td>\n",
       "      <td></td>\n",
       "      <td>54</td>\n",
       "      <td></td>\n",
       "      <td>107</td>\n",
       "      <td></td>\n",
       "      <td></td>\n",
       "      <td>69</td>\n",
       "      <td></td>\n",
       "    </tr>\n",
       "    <tr>\n",
       "      <th>meses_no_trabalho</th>\n",
       "      <td>0</td>\n",
       "      <td>0</td>\n",
       "      <td>0</td>\n",
       "      <td>0</td>\n",
       "      <td>0</td>\n",
       "      <td>0</td>\n",
       "      <td>0</td>\n",
       "      <td>0</td>\n",
       "      <td>0</td>\n",
       "      <td>0</td>\n",
       "    </tr>\n",
       "    <tr>\n",
       "      <th>profissao</th>\n",
       "      <td>9</td>\n",
       "      <td>2</td>\n",
       "      <td>NaN</td>\n",
       "      <td>9</td>\n",
       "      <td>9</td>\n",
       "      <td>9</td>\n",
       "      <td>10</td>\n",
       "      <td>NaN</td>\n",
       "      <td>9</td>\n",
       "      <td>9</td>\n",
       "    </tr>\n",
       "    <tr>\n",
       "      <th>ocupacao</th>\n",
       "      <td>1</td>\n",
       "      <td>5</td>\n",
       "      <td>NaN</td>\n",
       "      <td>2</td>\n",
       "      <td>5</td>\n",
       "      <td>2</td>\n",
       "      <td>1</td>\n",
       "      <td>NaN</td>\n",
       "      <td>2</td>\n",
       "      <td>2</td>\n",
       "    </tr>\n",
       "    <tr>\n",
       "      <th>profissao_companheiro</th>\n",
       "      <td>0</td>\n",
       "      <td>NaN</td>\n",
       "      <td>NaN</td>\n",
       "      <td>NaN</td>\n",
       "      <td>NaN</td>\n",
       "      <td>0</td>\n",
       "      <td>0</td>\n",
       "      <td>NaN</td>\n",
       "      <td>9</td>\n",
       "      <td>16</td>\n",
       "    </tr>\n",
       "    <tr>\n",
       "      <th>grau_instrucao_companheiro</th>\n",
       "      <td>0</td>\n",
       "      <td>NaN</td>\n",
       "      <td>NaN</td>\n",
       "      <td>NaN</td>\n",
       "      <td>NaN</td>\n",
       "      <td>0</td>\n",
       "      <td>0</td>\n",
       "      <td>NaN</td>\n",
       "      <td>4</td>\n",
       "      <td>4</td>\n",
       "    </tr>\n",
       "    <tr>\n",
       "      <th>local_onde_reside</th>\n",
       "      <td>600</td>\n",
       "      <td>492</td>\n",
       "      <td>450</td>\n",
       "      <td>932</td>\n",
       "      <td>440</td>\n",
       "      <td>628</td>\n",
       "      <td>190</td>\n",
       "      <td>299</td>\n",
       "      <td>756</td>\n",
       "      <td>960</td>\n",
       "    </tr>\n",
       "    <tr>\n",
       "      <th>local_onde_trabalha</th>\n",
       "      <td>600</td>\n",
       "      <td>492</td>\n",
       "      <td>450</td>\n",
       "      <td>932</td>\n",
       "      <td>440</td>\n",
       "      <td>628</td>\n",
       "      <td>190</td>\n",
       "      <td>299</td>\n",
       "      <td>756</td>\n",
       "      <td>960</td>\n",
       "    </tr>\n",
       "    <tr>\n",
       "      <th>inadimplente</th>\n",
       "      <td>0</td>\n",
       "      <td>0</td>\n",
       "      <td>1</td>\n",
       "      <td>1</td>\n",
       "      <td>1</td>\n",
       "      <td>1</td>\n",
       "      <td>1</td>\n",
       "      <td>1</td>\n",
       "      <td>0</td>\n",
       "      <td>1</td>\n",
       "    </tr>\n",
       "  </tbody>\n",
       "</table>\n",
       "</div>"
      ],
      "text/plain": [
       "                                           0         1         2         3  \\\n",
       "id_solicitante                             1         2         3         4   \n",
       "produto_solicitado                         1         1         1         1   \n",
       "dia_vencimento                            10        25        20        20   \n",
       "forma_envio_solicitacao           presencial  internet  internet  internet   \n",
       "tipo_endereco                              1         1         1         1   \n",
       "sexo                                       M         F         F         M   \n",
       "idade                                     85        38        37        37   \n",
       "estado_civil                               2         1         2         1   \n",
       "qtde_dependentes                           0         0         0         1   \n",
       "grau_instrucao                             0         0         0         0   \n",
       "nacionalidade                              1         1         1         1   \n",
       "estado_onde_nasceu                        CE        SE        BA        RS   \n",
       "estado_onde_reside                        CE        SE        BA        RS   \n",
       "possui_telefone_residencial                Y         Y         Y         Y   \n",
       "codigo_area_telefone_residencial         107        91        90        54   \n",
       "tipo_residencia                            1         1         5         1   \n",
       "meses_na_residencia                       12         5         1         1   \n",
       "possui_telefone_celular                    N         N         N         N   \n",
       "possui_email                               0         1         1         1   \n",
       "renda_mensal_regular                     480       380       600       460   \n",
       "renda_extra                                0         0         0         0   \n",
       "possui_cartao_visa                         0         0         0         0   \n",
       "possui_cartao_mastercard                   0         0         0         0   \n",
       "possui_cartao_diners                       0         0         0         0   \n",
       "possui_cartao_amex                         0         0         0         0   \n",
       "possui_outros_cartoes                      0         0         0         0   \n",
       "qtde_contas_bancarias                      1         0         0         0   \n",
       "qtde_contas_bancarias_especiais            1         0         0         0   \n",
       "valor_patrimonio_pessoal                   0         0         0         0   \n",
       "possui_carro                               1         0         0         0   \n",
       "vinculo_formal_com_empresa                 N         N         N         Y   \n",
       "estado_onde_trabalha                                                    RS   \n",
       "possui_telefone_trabalho                   N         N         N         Y   \n",
       "codigo_area_telefone_trabalho                                           54   \n",
       "meses_no_trabalho                          0         0         0         0   \n",
       "profissao                                  9         2       NaN         9   \n",
       "ocupacao                                   1         5       NaN         2   \n",
       "profissao_companheiro                      0       NaN       NaN       NaN   \n",
       "grau_instrucao_companheiro                 0       NaN       NaN       NaN   \n",
       "local_onde_reside                        600       492       450       932   \n",
       "local_onde_trabalha                      600       492       450       932   \n",
       "inadimplente                               0         0         1         1   \n",
       "\n",
       "                                         4           5           6         7  \\\n",
       "id_solicitante                           5           6           7         8   \n",
       "produto_solicitado                       7           1           1         1   \n",
       "dia_vencimento                           1          20          15         5   \n",
       "forma_envio_solicitacao           internet  presencial  presencial  internet   \n",
       "tipo_endereco                            1           1           1         1   \n",
       "sexo                                     F           M           F         F   \n",
       "idade                                   51          21          64        20   \n",
       "estado_civil                             1           1           4         1   \n",
       "qtde_dependentes                         3           1           2         0   \n",
       "grau_instrucao                           0           0           0         0   \n",
       "nacionalidade                            1           1           1         1   \n",
       "estado_onde_nasceu                      BA          CE          SP        ES   \n",
       "estado_onde_reside                      BA          CE          SP        ES   \n",
       "possui_telefone_residencial              Y           Y           Y         Y   \n",
       "codigo_area_telefone_residencial        86         107          16        25   \n",
       "tipo_residencia                          0           5           1         1   \n",
       "meses_na_residencia                      1           2           0         5   \n",
       "possui_telefone_celular                  N           N           N         N   \n",
       "possui_email                             1           0           1         1   \n",
       "renda_mensal_regular                   687         382         350       800   \n",
       "renda_extra                            600           0           0         0   \n",
       "possui_cartao_visa                       0           1           0         0   \n",
       "possui_cartao_mastercard                 0           0           0         0   \n",
       "possui_cartao_diners                     0           0           0         0   \n",
       "possui_cartao_amex                       0           0           0         0   \n",
       "possui_outros_cartoes                    0           0           0         0   \n",
       "qtde_contas_bancarias                    0           0           1         0   \n",
       "qtde_contas_bancarias_especiais          0           0           1         0   \n",
       "valor_patrimonio_pessoal                 0           0           0         0   \n",
       "possui_carro                             1           1           1         0   \n",
       "vinculo_formal_com_empresa               Y           Y           N         N   \n",
       "estado_onde_trabalha                    BA          CE                         \n",
       "possui_telefone_trabalho                 N           Y           N         N   \n",
       "codigo_area_telefone_trabalho                      107                         \n",
       "meses_no_trabalho                        0           0           0         0   \n",
       "profissao                                9           9          10       NaN   \n",
       "ocupacao                                 5           2           1       NaN   \n",
       "profissao_companheiro                  NaN           0           0       NaN   \n",
       "grau_instrucao_companheiro             NaN           0           0       NaN   \n",
       "local_onde_reside                      440         628         190       299   \n",
       "local_onde_trabalha                    440         628         190       299   \n",
       "inadimplente                             1           1           1         1   \n",
       "\n",
       "                                         8           9  \n",
       "id_solicitante                           9          10  \n",
       "produto_solicitado                       2           1  \n",
       "dia_vencimento                          25          10  \n",
       "forma_envio_solicitacao           internet  presencial  \n",
       "tipo_endereco                            1           1  \n",
       "sexo                                     F           M  \n",
       "idade                                   39          44  \n",
       "estado_civil                             2           2  \n",
       "qtde_dependentes                         2           2  \n",
       "grau_instrucao                           0           0  \n",
       "nacionalidade                            1           1  \n",
       "estado_onde_nasceu                      GO          RS  \n",
       "estado_onde_reside                      GO          RS  \n",
       "possui_telefone_residencial              Y           N  \n",
       "codigo_area_telefone_residencial        67              \n",
       "tipo_residencia                          1           1  \n",
       "meses_na_residencia                      3          15  \n",
       "possui_telefone_celular                  N           N  \n",
       "possui_email                             1           0  \n",
       "renda_mensal_regular                  1200         749  \n",
       "renda_extra                              0           0  \n",
       "possui_cartao_visa                       1           0  \n",
       "possui_cartao_mastercard                 0           0  \n",
       "possui_cartao_diners                     0           0  \n",
       "possui_cartao_amex                       0           0  \n",
       "possui_outros_cartoes                    0           0  \n",
       "qtde_contas_bancarias                    0           1  \n",
       "qtde_contas_bancarias_especiais          0           1  \n",
       "valor_patrimonio_pessoal                 0           0  \n",
       "possui_carro                             0           1  \n",
       "vinculo_formal_com_empresa               Y           Y  \n",
       "estado_onde_trabalha                                RS  \n",
       "possui_telefone_trabalho                 Y           N  \n",
       "codigo_area_telefone_trabalho           69              \n",
       "meses_no_trabalho                        0           0  \n",
       "profissao                                9           9  \n",
       "ocupacao                                 2           2  \n",
       "profissao_companheiro                    9          16  \n",
       "grau_instrucao_companheiro               4           4  \n",
       "local_onde_reside                      756         960  \n",
       "local_onde_trabalha                    756         960  \n",
       "inadimplente                             0           1  "
      ]
     },
     "execution_count": 425,
     "metadata": {},
     "output_type": "execute_result"
    }
   ],
   "source": [
    "#visualização de uma amostra dos dados, usamos a transposta para poder ver todas as Colunas\n",
    "train.head(10).T"
   ]
  },
  {
   "cell_type": "markdown",
   "metadata": {},
   "source": [
    "Conclusões:\n",
    "- Temos colunas com VARIÁVEIS CATEGÓRICAS (numéricas e palavras)\n",
    "- Temos colunas com VARIÁVEIS CONTÍNUAS (numéricas) "
   ]
  },
  {
   "cell_type": "code",
   "execution_count": 417,
   "metadata": {},
   "outputs": [
    {
     "name": "stdout",
     "output_type": "stream",
     "text": [
      "<class 'pandas.core.frame.DataFrame'>\n",
      "RangeIndex: 20000 entries, 0 to 19999\n",
      "Data columns (total 42 columns):\n",
      " #   Column                            Non-Null Count  Dtype  \n",
      "---  ------                            --------------  -----  \n",
      " 0   id_solicitante                    20000 non-null  int64  \n",
      " 1   produto_solicitado                20000 non-null  int64  \n",
      " 2   dia_vencimento                    20000 non-null  int64  \n",
      " 3   forma_envio_solicitacao           20000 non-null  object \n",
      " 4   tipo_endereco                     20000 non-null  int64  \n",
      " 5   sexo                              20000 non-null  object \n",
      " 6   idade                             20000 non-null  int64  \n",
      " 7   estado_civil                      20000 non-null  int64  \n",
      " 8   qtde_dependentes                  20000 non-null  int64  \n",
      " 9   grau_instrucao                    20000 non-null  int64  \n",
      " 10  nacionalidade                     20000 non-null  int64  \n",
      " 11  estado_onde_nasceu                20000 non-null  object \n",
      " 12  estado_onde_reside                20000 non-null  object \n",
      " 13  possui_telefone_residencial       20000 non-null  object \n",
      " 14  codigo_area_telefone_residencial  20000 non-null  object \n",
      " 15  tipo_residencia                   19464 non-null  float64\n",
      " 16  meses_na_residencia               18550 non-null  float64\n",
      " 17  possui_telefone_celular           20000 non-null  object \n",
      " 18  possui_email                      20000 non-null  int64  \n",
      " 19  renda_mensal_regular              20000 non-null  float64\n",
      " 20  renda_extra                       20000 non-null  float64\n",
      " 21  possui_cartao_visa                20000 non-null  int64  \n",
      " 22  possui_cartao_mastercard          20000 non-null  int64  \n",
      " 23  possui_cartao_diners              20000 non-null  int64  \n",
      " 24  possui_cartao_amex                20000 non-null  int64  \n",
      " 25  possui_outros_cartoes             20000 non-null  int64  \n",
      " 26  qtde_contas_bancarias             20000 non-null  int64  \n",
      " 27  qtde_contas_bancarias_especiais   20000 non-null  int64  \n",
      " 28  valor_patrimonio_pessoal          20000 non-null  float64\n",
      " 29  possui_carro                      20000 non-null  int64  \n",
      " 30  vinculo_formal_com_empresa        20000 non-null  object \n",
      " 31  estado_onde_trabalha              20000 non-null  object \n",
      " 32  possui_telefone_trabalho          20000 non-null  object \n",
      " 33  codigo_area_telefone_trabalho     20000 non-null  object \n",
      " 34  meses_no_trabalho                 20000 non-null  int64  \n",
      " 35  profissao                         16903 non-null  float64\n",
      " 36  ocupacao                          17022 non-null  float64\n",
      " 37  profissao_companheiro             8486 non-null   float64\n",
      " 38  grau_instrucao_companheiro        7140 non-null   float64\n",
      " 39  local_onde_reside                 20000 non-null  float64\n",
      " 40  local_onde_trabalha               20000 non-null  float64\n",
      " 41  inadimplente                      20000 non-null  int64  \n",
      "dtypes: float64(11), int64(20), object(11)\n",
      "memory usage: 6.4+ MB\n"
     ]
    }
   ],
   "source": [
    "#informações extra sobre cada conluna, temos a seguinte ordem (INDEX) #-# (NOME DA COLUNA) #-# (CONTAGEM DE VALORES NÃO FALTANTES) #-# (TIPO DOS DADOS NA COLUNA) \n",
    "train.info()"
   ]
  },
  {
   "cell_type": "markdown",
   "metadata": {},
   "source": [
    "- Temos colunas dos tipos INT64, FLOAT64, OBJECT."
   ]
  },
  {
   "cell_type": "code",
   "execution_count": 225,
   "metadata": {},
   "outputs": [
    {
     "data": {
      "text/plain": [
       "id_solicitante                          0\n",
       "produto_solicitado                      0\n",
       "dia_vencimento                          0\n",
       "forma_envio_solicitacao                 0\n",
       "tipo_endereco                           0\n",
       "sexo                                    0\n",
       "idade                                   0\n",
       "estado_civil                            0\n",
       "qtde_dependentes                        0\n",
       "grau_instrucao                          0\n",
       "nacionalidade                           0\n",
       "estado_onde_nasceu                      0\n",
       "estado_onde_reside                      0\n",
       "possui_telefone_residencial             0\n",
       "codigo_area_telefone_residencial        0\n",
       "tipo_residencia                       536\n",
       "meses_na_residencia                  1450\n",
       "possui_telefone_celular                 0\n",
       "possui_email                            0\n",
       "renda_mensal_regular                    0\n",
       "renda_extra                             0\n",
       "possui_cartao_visa                      0\n",
       "possui_cartao_mastercard                0\n",
       "possui_cartao_diners                    0\n",
       "possui_cartao_amex                      0\n",
       "possui_outros_cartoes                   0\n",
       "qtde_contas_bancarias                   0\n",
       "qtde_contas_bancarias_especiais         0\n",
       "valor_patrimonio_pessoal                0\n",
       "possui_carro                            0\n",
       "vinculo_formal_com_empresa              0\n",
       "estado_onde_trabalha                    0\n",
       "possui_telefone_trabalho                0\n",
       "codigo_area_telefone_trabalho           0\n",
       "meses_no_trabalho                       0\n",
       "profissao                            3097\n",
       "ocupacao                             2978\n",
       "profissao_companheiro               11514\n",
       "grau_instrucao_companheiro          12860\n",
       "local_onde_reside                       0\n",
       "local_onde_trabalha                     0\n",
       "inadimplente                            0\n",
       "dtype: int64"
      ]
     },
     "execution_count": 225,
     "metadata": {},
     "output_type": "execute_result"
    }
   ],
   "source": [
    "#vendo melhor a quantidade de valores nulos nas colunas citadas acima\n",
    "train.isnull().sum()"
   ]
  },
  {
   "cell_type": "markdown",
   "metadata": {},
   "source": [
    "- Algumas colunas como \"GRAU_INSTRUCAO_COMPANHEIRO\", \"PROFISSAO_COMPANHEIRO\", \"PROFISSAO\", \"OCUPACAO\", \"TIPO_RESIDENCIA\", \"MESES_NA_RESIDENCIA\" possuem valores faltantes, trataremos desse assunto mais pra frente."
   ]
  },
  {
   "cell_type": "code",
   "execution_count": 424,
   "metadata": {},
   "outputs": [
    {
     "data": {
      "text/html": [
       "<div>\n",
       "<style scoped>\n",
       "    .dataframe tbody tr th:only-of-type {\n",
       "        vertical-align: middle;\n",
       "    }\n",
       "\n",
       "    .dataframe tbody tr th {\n",
       "        vertical-align: top;\n",
       "    }\n",
       "\n",
       "    .dataframe thead th {\n",
       "        text-align: right;\n",
       "    }\n",
       "</style>\n",
       "<table border=\"1\" class=\"dataframe\">\n",
       "  <thead>\n",
       "    <tr style=\"text-align: right;\">\n",
       "      <th></th>\n",
       "      <th>count</th>\n",
       "      <th>mean</th>\n",
       "      <th>std</th>\n",
       "      <th>min</th>\n",
       "      <th>25%</th>\n",
       "      <th>50%</th>\n",
       "      <th>75%</th>\n",
       "      <th>max</th>\n",
       "    </tr>\n",
       "  </thead>\n",
       "  <tbody>\n",
       "    <tr>\n",
       "      <th>id_solicitante</th>\n",
       "      <td>20000.0</td>\n",
       "      <td>10000.500000</td>\n",
       "      <td>5773.647028</td>\n",
       "      <td>1.0</td>\n",
       "      <td>5000.75</td>\n",
       "      <td>10000.5</td>\n",
       "      <td>15000.25</td>\n",
       "      <td>20000.0</td>\n",
       "    </tr>\n",
       "    <tr>\n",
       "      <th>produto_solicitado</th>\n",
       "      <td>20000.0</td>\n",
       "      <td>1.284350</td>\n",
       "      <td>1.008239</td>\n",
       "      <td>1.0</td>\n",
       "      <td>1.00</td>\n",
       "      <td>1.0</td>\n",
       "      <td>1.00</td>\n",
       "      <td>7.0</td>\n",
       "    </tr>\n",
       "    <tr>\n",
       "      <th>dia_vencimento</th>\n",
       "      <td>20000.0</td>\n",
       "      <td>13.147250</td>\n",
       "      <td>6.748507</td>\n",
       "      <td>1.0</td>\n",
       "      <td>10.00</td>\n",
       "      <td>10.0</td>\n",
       "      <td>20.00</td>\n",
       "      <td>25.0</td>\n",
       "    </tr>\n",
       "    <tr>\n",
       "      <th>tipo_endereco</th>\n",
       "      <td>20000.0</td>\n",
       "      <td>1.006350</td>\n",
       "      <td>0.079435</td>\n",
       "      <td>1.0</td>\n",
       "      <td>1.00</td>\n",
       "      <td>1.0</td>\n",
       "      <td>1.00</td>\n",
       "      <td>2.0</td>\n",
       "    </tr>\n",
       "    <tr>\n",
       "      <th>idade</th>\n",
       "      <td>20000.0</td>\n",
       "      <td>42.352500</td>\n",
       "      <td>14.930177</td>\n",
       "      <td>7.0</td>\n",
       "      <td>31.00</td>\n",
       "      <td>40.0</td>\n",
       "      <td>52.00</td>\n",
       "      <td>106.0</td>\n",
       "    </tr>\n",
       "    <tr>\n",
       "      <th>estado_civil</th>\n",
       "      <td>20000.0</td>\n",
       "      <td>2.120850</td>\n",
       "      <td>1.332004</td>\n",
       "      <td>0.0</td>\n",
       "      <td>1.00</td>\n",
       "      <td>2.0</td>\n",
       "      <td>2.00</td>\n",
       "      <td>7.0</td>\n",
       "    </tr>\n",
       "    <tr>\n",
       "      <th>qtde_dependentes</th>\n",
       "      <td>20000.0</td>\n",
       "      <td>0.666400</td>\n",
       "      <td>1.236725</td>\n",
       "      <td>0.0</td>\n",
       "      <td>0.00</td>\n",
       "      <td>0.0</td>\n",
       "      <td>1.00</td>\n",
       "      <td>53.0</td>\n",
       "    </tr>\n",
       "    <tr>\n",
       "      <th>grau_instrucao</th>\n",
       "      <td>20000.0</td>\n",
       "      <td>0.000000</td>\n",
       "      <td>0.000000</td>\n",
       "      <td>0.0</td>\n",
       "      <td>0.00</td>\n",
       "      <td>0.0</td>\n",
       "      <td>0.00</td>\n",
       "      <td>0.0</td>\n",
       "    </tr>\n",
       "    <tr>\n",
       "      <th>nacionalidade</th>\n",
       "      <td>20000.0</td>\n",
       "      <td>0.961600</td>\n",
       "      <td>0.202305</td>\n",
       "      <td>0.0</td>\n",
       "      <td>1.00</td>\n",
       "      <td>1.0</td>\n",
       "      <td>1.00</td>\n",
       "      <td>2.0</td>\n",
       "    </tr>\n",
       "    <tr>\n",
       "      <th>tipo_residencia</th>\n",
       "      <td>19464.0</td>\n",
       "      <td>1.261303</td>\n",
       "      <td>0.883580</td>\n",
       "      <td>0.0</td>\n",
       "      <td>1.00</td>\n",
       "      <td>1.0</td>\n",
       "      <td>1.00</td>\n",
       "      <td>5.0</td>\n",
       "    </tr>\n",
       "    <tr>\n",
       "      <th>meses_na_residencia</th>\n",
       "      <td>18550.0</td>\n",
       "      <td>9.572453</td>\n",
       "      <td>10.649580</td>\n",
       "      <td>0.0</td>\n",
       "      <td>1.00</td>\n",
       "      <td>6.0</td>\n",
       "      <td>15.00</td>\n",
       "      <td>228.0</td>\n",
       "    </tr>\n",
       "    <tr>\n",
       "      <th>possui_email</th>\n",
       "      <td>20000.0</td>\n",
       "      <td>0.799200</td>\n",
       "      <td>0.400609</td>\n",
       "      <td>0.0</td>\n",
       "      <td>1.00</td>\n",
       "      <td>1.0</td>\n",
       "      <td>1.00</td>\n",
       "      <td>1.0</td>\n",
       "    </tr>\n",
       "    <tr>\n",
       "      <th>renda_mensal_regular</th>\n",
       "      <td>20000.0</td>\n",
       "      <td>957.130937</td>\n",
       "      <td>11353.965001</td>\n",
       "      <td>69.0</td>\n",
       "      <td>360.00</td>\n",
       "      <td>500.0</td>\n",
       "      <td>800.00</td>\n",
       "      <td>959000.0</td>\n",
       "    </tr>\n",
       "    <tr>\n",
       "      <th>renda_extra</th>\n",
       "      <td>20000.0</td>\n",
       "      <td>39.096958</td>\n",
       "      <td>1387.428780</td>\n",
       "      <td>0.0</td>\n",
       "      <td>0.00</td>\n",
       "      <td>0.0</td>\n",
       "      <td>0.00</td>\n",
       "      <td>194344.0</td>\n",
       "    </tr>\n",
       "    <tr>\n",
       "      <th>possui_cartao_visa</th>\n",
       "      <td>20000.0</td>\n",
       "      <td>0.108900</td>\n",
       "      <td>0.311521</td>\n",
       "      <td>0.0</td>\n",
       "      <td>0.00</td>\n",
       "      <td>0.0</td>\n",
       "      <td>0.00</td>\n",
       "      <td>1.0</td>\n",
       "    </tr>\n",
       "    <tr>\n",
       "      <th>possui_cartao_mastercard</th>\n",
       "      <td>20000.0</td>\n",
       "      <td>0.094950</td>\n",
       "      <td>0.293153</td>\n",
       "      <td>0.0</td>\n",
       "      <td>0.00</td>\n",
       "      <td>0.0</td>\n",
       "      <td>0.00</td>\n",
       "      <td>1.0</td>\n",
       "    </tr>\n",
       "    <tr>\n",
       "      <th>possui_cartao_diners</th>\n",
       "      <td>20000.0</td>\n",
       "      <td>0.001600</td>\n",
       "      <td>0.039969</td>\n",
       "      <td>0.0</td>\n",
       "      <td>0.00</td>\n",
       "      <td>0.0</td>\n",
       "      <td>0.00</td>\n",
       "      <td>1.0</td>\n",
       "    </tr>\n",
       "    <tr>\n",
       "      <th>possui_cartao_amex</th>\n",
       "      <td>20000.0</td>\n",
       "      <td>0.002050</td>\n",
       "      <td>0.045232</td>\n",
       "      <td>0.0</td>\n",
       "      <td>0.00</td>\n",
       "      <td>0.0</td>\n",
       "      <td>0.00</td>\n",
       "      <td>1.0</td>\n",
       "    </tr>\n",
       "    <tr>\n",
       "      <th>possui_outros_cartoes</th>\n",
       "      <td>20000.0</td>\n",
       "      <td>0.002250</td>\n",
       "      <td>0.047382</td>\n",
       "      <td>0.0</td>\n",
       "      <td>0.00</td>\n",
       "      <td>0.0</td>\n",
       "      <td>0.00</td>\n",
       "      <td>1.0</td>\n",
       "    </tr>\n",
       "    <tr>\n",
       "      <th>qtde_contas_bancarias</th>\n",
       "      <td>20000.0</td>\n",
       "      <td>0.361100</td>\n",
       "      <td>0.481164</td>\n",
       "      <td>0.0</td>\n",
       "      <td>0.00</td>\n",
       "      <td>0.0</td>\n",
       "      <td>1.00</td>\n",
       "      <td>2.0</td>\n",
       "    </tr>\n",
       "    <tr>\n",
       "      <th>qtde_contas_bancarias_especiais</th>\n",
       "      <td>20000.0</td>\n",
       "      <td>0.361100</td>\n",
       "      <td>0.481164</td>\n",
       "      <td>0.0</td>\n",
       "      <td>0.00</td>\n",
       "      <td>0.0</td>\n",
       "      <td>1.00</td>\n",
       "      <td>2.0</td>\n",
       "    </tr>\n",
       "    <tr>\n",
       "      <th>valor_patrimonio_pessoal</th>\n",
       "      <td>20000.0</td>\n",
       "      <td>2095.614000</td>\n",
       "      <td>44033.436582</td>\n",
       "      <td>0.0</td>\n",
       "      <td>0.00</td>\n",
       "      <td>0.0</td>\n",
       "      <td>0.00</td>\n",
       "      <td>6000000.0</td>\n",
       "    </tr>\n",
       "    <tr>\n",
       "      <th>possui_carro</th>\n",
       "      <td>20000.0</td>\n",
       "      <td>0.339050</td>\n",
       "      <td>0.473399</td>\n",
       "      <td>0.0</td>\n",
       "      <td>0.00</td>\n",
       "      <td>0.0</td>\n",
       "      <td>1.00</td>\n",
       "      <td>1.0</td>\n",
       "    </tr>\n",
       "    <tr>\n",
       "      <th>meses_no_trabalho</th>\n",
       "      <td>20000.0</td>\n",
       "      <td>0.008900</td>\n",
       "      <td>0.388881</td>\n",
       "      <td>0.0</td>\n",
       "      <td>0.00</td>\n",
       "      <td>0.0</td>\n",
       "      <td>0.00</td>\n",
       "      <td>32.0</td>\n",
       "    </tr>\n",
       "    <tr>\n",
       "      <th>profissao</th>\n",
       "      <td>16903.0</td>\n",
       "      <td>8.045081</td>\n",
       "      <td>3.210790</td>\n",
       "      <td>0.0</td>\n",
       "      <td>9.00</td>\n",
       "      <td>9.0</td>\n",
       "      <td>9.00</td>\n",
       "      <td>17.0</td>\n",
       "    </tr>\n",
       "    <tr>\n",
       "      <th>ocupacao</th>\n",
       "      <td>17022.0</td>\n",
       "      <td>2.533310</td>\n",
       "      <td>1.532765</td>\n",
       "      <td>0.0</td>\n",
       "      <td>1.00</td>\n",
       "      <td>2.0</td>\n",
       "      <td>4.00</td>\n",
       "      <td>5.0</td>\n",
       "    </tr>\n",
       "    <tr>\n",
       "      <th>profissao_companheiro</th>\n",
       "      <td>8486.0</td>\n",
       "      <td>3.708107</td>\n",
       "      <td>5.181241</td>\n",
       "      <td>0.0</td>\n",
       "      <td>0.00</td>\n",
       "      <td>0.0</td>\n",
       "      <td>11.00</td>\n",
       "      <td>17.0</td>\n",
       "    </tr>\n",
       "    <tr>\n",
       "      <th>grau_instrucao_companheiro</th>\n",
       "      <td>7140.0</td>\n",
       "      <td>0.288095</td>\n",
       "      <td>0.944339</td>\n",
       "      <td>0.0</td>\n",
       "      <td>0.00</td>\n",
       "      <td>0.0</td>\n",
       "      <td>0.00</td>\n",
       "      <td>5.0</td>\n",
       "    </tr>\n",
       "    <tr>\n",
       "      <th>local_onde_reside</th>\n",
       "      <td>20000.0</td>\n",
       "      <td>581.295250</td>\n",
       "      <td>227.369798</td>\n",
       "      <td>105.0</td>\n",
       "      <td>444.00</td>\n",
       "      <td>596.0</td>\n",
       "      <td>728.00</td>\n",
       "      <td>999.0</td>\n",
       "    </tr>\n",
       "    <tr>\n",
       "      <th>local_onde_trabalha</th>\n",
       "      <td>20000.0</td>\n",
       "      <td>581.295250</td>\n",
       "      <td>227.369798</td>\n",
       "      <td>105.0</td>\n",
       "      <td>444.00</td>\n",
       "      <td>596.0</td>\n",
       "      <td>728.00</td>\n",
       "      <td>999.0</td>\n",
       "    </tr>\n",
       "    <tr>\n",
       "      <th>inadimplente</th>\n",
       "      <td>20000.0</td>\n",
       "      <td>0.500000</td>\n",
       "      <td>0.500013</td>\n",
       "      <td>0.0</td>\n",
       "      <td>0.00</td>\n",
       "      <td>0.5</td>\n",
       "      <td>1.00</td>\n",
       "      <td>1.0</td>\n",
       "    </tr>\n",
       "  </tbody>\n",
       "</table>\n",
       "</div>"
      ],
      "text/plain": [
       "                                   count          mean           std    min  \\\n",
       "id_solicitante                   20000.0  10000.500000   5773.647028    1.0   \n",
       "produto_solicitado               20000.0      1.284350      1.008239    1.0   \n",
       "dia_vencimento                   20000.0     13.147250      6.748507    1.0   \n",
       "tipo_endereco                    20000.0      1.006350      0.079435    1.0   \n",
       "idade                            20000.0     42.352500     14.930177    7.0   \n",
       "estado_civil                     20000.0      2.120850      1.332004    0.0   \n",
       "qtde_dependentes                 20000.0      0.666400      1.236725    0.0   \n",
       "grau_instrucao                   20000.0      0.000000      0.000000    0.0   \n",
       "nacionalidade                    20000.0      0.961600      0.202305    0.0   \n",
       "tipo_residencia                  19464.0      1.261303      0.883580    0.0   \n",
       "meses_na_residencia              18550.0      9.572453     10.649580    0.0   \n",
       "possui_email                     20000.0      0.799200      0.400609    0.0   \n",
       "renda_mensal_regular             20000.0    957.130937  11353.965001   69.0   \n",
       "renda_extra                      20000.0     39.096958   1387.428780    0.0   \n",
       "possui_cartao_visa               20000.0      0.108900      0.311521    0.0   \n",
       "possui_cartao_mastercard         20000.0      0.094950      0.293153    0.0   \n",
       "possui_cartao_diners             20000.0      0.001600      0.039969    0.0   \n",
       "possui_cartao_amex               20000.0      0.002050      0.045232    0.0   \n",
       "possui_outros_cartoes            20000.0      0.002250      0.047382    0.0   \n",
       "qtde_contas_bancarias            20000.0      0.361100      0.481164    0.0   \n",
       "qtde_contas_bancarias_especiais  20000.0      0.361100      0.481164    0.0   \n",
       "valor_patrimonio_pessoal         20000.0   2095.614000  44033.436582    0.0   \n",
       "possui_carro                     20000.0      0.339050      0.473399    0.0   \n",
       "meses_no_trabalho                20000.0      0.008900      0.388881    0.0   \n",
       "profissao                        16903.0      8.045081      3.210790    0.0   \n",
       "ocupacao                         17022.0      2.533310      1.532765    0.0   \n",
       "profissao_companheiro             8486.0      3.708107      5.181241    0.0   \n",
       "grau_instrucao_companheiro        7140.0      0.288095      0.944339    0.0   \n",
       "local_onde_reside                20000.0    581.295250    227.369798  105.0   \n",
       "local_onde_trabalha              20000.0    581.295250    227.369798  105.0   \n",
       "inadimplente                     20000.0      0.500000      0.500013    0.0   \n",
       "\n",
       "                                     25%      50%       75%        max  \n",
       "id_solicitante                   5000.75  10000.5  15000.25    20000.0  \n",
       "produto_solicitado                  1.00      1.0      1.00        7.0  \n",
       "dia_vencimento                     10.00     10.0     20.00       25.0  \n",
       "tipo_endereco                       1.00      1.0      1.00        2.0  \n",
       "idade                              31.00     40.0     52.00      106.0  \n",
       "estado_civil                        1.00      2.0      2.00        7.0  \n",
       "qtde_dependentes                    0.00      0.0      1.00       53.0  \n",
       "grau_instrucao                      0.00      0.0      0.00        0.0  \n",
       "nacionalidade                       1.00      1.0      1.00        2.0  \n",
       "tipo_residencia                     1.00      1.0      1.00        5.0  \n",
       "meses_na_residencia                 1.00      6.0     15.00      228.0  \n",
       "possui_email                        1.00      1.0      1.00        1.0  \n",
       "renda_mensal_regular              360.00    500.0    800.00   959000.0  \n",
       "renda_extra                         0.00      0.0      0.00   194344.0  \n",
       "possui_cartao_visa                  0.00      0.0      0.00        1.0  \n",
       "possui_cartao_mastercard            0.00      0.0      0.00        1.0  \n",
       "possui_cartao_diners                0.00      0.0      0.00        1.0  \n",
       "possui_cartao_amex                  0.00      0.0      0.00        1.0  \n",
       "possui_outros_cartoes               0.00      0.0      0.00        1.0  \n",
       "qtde_contas_bancarias               0.00      0.0      1.00        2.0  \n",
       "qtde_contas_bancarias_especiais     0.00      0.0      1.00        2.0  \n",
       "valor_patrimonio_pessoal            0.00      0.0      0.00  6000000.0  \n",
       "possui_carro                        0.00      0.0      1.00        1.0  \n",
       "meses_no_trabalho                   0.00      0.0      0.00       32.0  \n",
       "profissao                           9.00      9.0      9.00       17.0  \n",
       "ocupacao                            1.00      2.0      4.00        5.0  \n",
       "profissao_companheiro               0.00      0.0     11.00       17.0  \n",
       "grau_instrucao_companheiro          0.00      0.0      0.00        5.0  \n",
       "local_onde_reside                 444.00    596.0    728.00      999.0  \n",
       "local_onde_trabalha               444.00    596.0    728.00      999.0  \n",
       "inadimplente                        0.00      0.5      1.00        1.0  "
      ]
     },
     "execution_count": 424,
     "metadata": {},
     "output_type": "execute_result"
    }
   ],
   "source": [
    "train.describe().T"
   ]
  },
  {
   "cell_type": "markdown",
   "metadata": {},
   "source": [
    "----------"
   ]
  },
  {
   "cell_type": "markdown",
   "metadata": {},
   "source": [
    "## Investigando as colunas:"
   ]
  },
  {
   "cell_type": "markdown",
   "metadata": {},
   "source": [
    "----------"
   ]
  },
  {
   "cell_type": "markdown",
   "metadata": {},
   "source": [
    "### 1) id_solicitante"
   ]
  },
  {
   "cell_type": "code",
   "execution_count": 419,
   "metadata": {},
   "outputs": [
    {
     "data": {
      "text/plain": [
       "0    1\n",
       "1    2\n",
       "2    3\n",
       "3    4\n",
       "4    5\n",
       "Name: id_solicitante, dtype: int64"
      ]
     },
     "execution_count": 419,
     "metadata": {},
     "output_type": "execute_result"
    }
   ],
   "source": [
    "train['id_solicitante'].head()"
   ]
  },
  {
   "cell_type": "markdown",
   "metadata": {},
   "source": [
    "- Se trata de apenas uma Distribuição Uniforme e não terá nenhum valor pro nosso modelo, mas pode ser útil em um Merge futuro de DataFrames, então resolvi mante-la."
   ]
  },
  {
   "cell_type": "markdown",
   "metadata": {},
   "source": [
    "----------"
   ]
  },
  {
   "cell_type": "markdown",
   "metadata": {},
   "source": [
    "### 2) produto_solicitado"
   ]
  },
  {
   "cell_type": "markdown",
   "metadata": {},
   "source": [
    "Coluna de dados numéricos categóricos dividida nas classes abaixo"
   ]
  },
  {
   "cell_type": "markdown",
   "metadata": {},
   "source": [
    "- 1 = Cartão de crédito\n",
    "- 2 = Empréstimo Pessoal\n",
    "- 7 = Empréstimo Consignado"
   ]
  },
  {
   "cell_type": "code",
   "execution_count": 221,
   "metadata": {},
   "outputs": [
    {
     "data": {
      "text/plain": [
       "1    17023\n",
       "2     2435\n",
       "7      542\n",
       "Name: produto_solicitado, dtype: int64"
      ]
     },
     "execution_count": 221,
     "metadata": {},
     "output_type": "execute_result"
    }
   ],
   "source": [
    "#Retorna a soma da contagem de valores únicos das classes da coluna PRODUTO_SOLICITADO\n",
    "train['produto_solicitado'].value_counts()"
   ]
  },
  {
   "cell_type": "code",
   "execution_count": 222,
   "metadata": {},
   "outputs": [
    {
     "data": {
      "text/plain": [
       "1    0.85115\n",
       "2    0.12175\n",
       "7    0.02710\n",
       "Name: produto_solicitado, dtype: float64"
      ]
     },
     "execution_count": 222,
     "metadata": {},
     "output_type": "execute_result"
    }
   ],
   "source": [
    "#Retorna a proporção de valores únicos das classes da coluna PRODUTO_SOLICITADO\n",
    "train['produto_solicitado'].value_counts(normalize=True)"
   ]
  },
  {
   "cell_type": "markdown",
   "metadata": {},
   "source": [
    "- A categoria -CARTÃO DE CRÉDITO- tem 85.115% do total.\n",
    "- A categoria -EMPRÉSTIMO PESSOAL- tem 12.175% do total.\n",
    "- A categoria -EMPRÉSTIMO CONSIGNADO- tem 2.710% do total "
   ]
  },
  {
   "cell_type": "markdown",
   "metadata": {},
   "source": [
    "A classe CARTÃO DE CRÉDITO tem a grande maioria dos valores."
   ]
  },
  {
   "cell_type": "markdown",
   "metadata": {},
   "source": [
    "GRÁFICOS DE BARRAS e PIZZA"
   ]
  },
  {
   "cell_type": "markdown",
   "metadata": {},
   "source": [
    "A hipótese é a seguinte...há alguma desbalanço entre as classes da coluna PRODUTO_SOLICITADO ?"
   ]
  },
  {
   "cell_type": "markdown",
   "metadata": {},
   "source": [
    "A célula anterior mostrou isso em números mas vamos visualizar com mais clareza, e como nossa variável é categórica um gráfico de barras vai me mostrar muito bem."
   ]
  },
  {
   "cell_type": "code",
   "execution_count": 699,
   "metadata": {},
   "outputs": [
    {
     "data": {
      "image/png": "[encoded data removed]",
      "text/plain": [
       "<Figure size 504x288 with 1 Axes>"
      ]
     },
     "metadata": {},
     "output_type": "display_data"
    }
   ],
   "source": [
    "#Podemos ver a contagem das classes de forma mais clara em um gráfico de barras.\n",
    "\n",
    "#tema do gráfico\n",
    "matplotlib.style.use('seaborn-poster')\n",
    "#ajusto o tamanho do gráfico\n",
    "fig = plt.figure(figsize=(7,4))\n",
    "#gráfico de barras com proporção das classes da coluna PRODUTO_SOLICITADO.\n",
    "train['produto_solicitado'].value_counts().plot.bar(color='#b8860b')\n",
    "#título\n",
    "plt.title('Contagem de classes por classe', fontdict={'fontsize':15})\n",
    "#rótulo eixo-y\n",
    "plt.ylabel('Contagem')\n",
    "#rótulo eixo-x\n",
    "plt.xlabel('Classes - Produtos Solicitados')\n",
    "#mostro o gráfico\n",
    "plt.show()"
   ]
  },
  {
   "cell_type": "markdown",
   "metadata": {},
   "source": [
    "Classe 1 (CARTÃO DE CRÉDITO) dominante seguida da 2 (EMPRÉSTIMO PESSOAL) e 7 (EMPRÉSTIMO CONSIGNADO)"
   ]
  },
  {
   "cell_type": "code",
   "execution_count": 698,
   "metadata": {},
   "outputs": [
    {
     "data": {
      "image/png": "[encoded data removed]",
      "text/plain": [
       "<Figure size 288x288 with 1 Axes>"
      ]
     },
     "metadata": {},
     "output_type": "display_data"
    }
   ],
   "source": [
    "#Podemos ver essa proporções de forma mais clara em um gráfico de pizza.\n",
    "fig = plt.figure(figsize=(4,4))\n",
    "matplotlib.style.use('seaborn-poster')\n",
    "#gráfico de pizza com proporção das classes da coluna PRODUTO_SOLICITADO.\n",
    "train['produto_solicitado'].value_counts().plot.pie()\n",
    "plt.ylabel('')\n",
    "plt.title('Classes - Produtos Solicitados')\n",
    "plt.show()"
   ]
  },
  {
   "cell_type": "markdown",
   "metadata": {},
   "source": [
    "- Como já vimos nos números e no gráfico de barras a classe CARTÃO DE CRÉDITO tem a maioria dos valores seguido por EMPRÉSTIMO PESSOAL e EMPRÉSTIMO CONSIGNADO, esses dois gráficos ilustram melhor essas proporções."
   ]
  },
  {
   "cell_type": "code",
   "execution_count": 5,
   "metadata": {},
   "outputs": [
    {
     "data": {
      "text/html": [
       "<div>\n",
       "<style scoped>\n",
       "    .dataframe tbody tr th:only-of-type {\n",
       "        vertical-align: middle;\n",
       "    }\n",
       "\n",
       "    .dataframe tbody tr th {\n",
       "        vertical-align: top;\n",
       "    }\n",
       "\n",
       "    .dataframe thead th {\n",
       "        text-align: right;\n",
       "    }\n",
       "</style>\n",
       "<table border=\"1\" class=\"dataframe\">\n",
       "  <thead>\n",
       "    <tr style=\"text-align: right;\">\n",
       "      <th>inadimplente</th>\n",
       "      <th>0</th>\n",
       "      <th>1</th>\n",
       "    </tr>\n",
       "    <tr>\n",
       "      <th>produto_solicitado</th>\n",
       "      <th></th>\n",
       "      <th></th>\n",
       "    </tr>\n",
       "  </thead>\n",
       "  <tbody>\n",
       "    <tr>\n",
       "      <th>1</th>\n",
       "      <td>8570</td>\n",
       "      <td>8453</td>\n",
       "    </tr>\n",
       "    <tr>\n",
       "      <th>2</th>\n",
       "      <td>1208</td>\n",
       "      <td>1227</td>\n",
       "    </tr>\n",
       "    <tr>\n",
       "      <th>7</th>\n",
       "      <td>222</td>\n",
       "      <td>320</td>\n",
       "    </tr>\n",
       "  </tbody>\n",
       "</table>\n",
       "</div>"
      ],
      "text/plain": [
       "inadimplente           0     1\n",
       "produto_solicitado            \n",
       "1                   8570  8453\n",
       "2                   1208  1227\n",
       "7                    222   320"
      ]
     },
     "execution_count": 5,
     "metadata": {},
     "output_type": "execute_result"
    }
   ],
   "source": [
    "#cria uma tabela de proporções normalizada pelos Index que nesse caso são os PRODUTOS_SOLICITADOS\n",
    "tabela_produto_solicitado = pd.crosstab(train['produto_solicitado'], train['inadimplente'])\n",
    "tabela_produto_solicitado"
   ]
  },
  {
   "cell_type": "code",
   "execution_count": 231,
   "metadata": {},
   "outputs": [
    {
     "data": {
      "text/html": [
       "<div>\n",
       "<style scoped>\n",
       "    .dataframe tbody tr th:only-of-type {\n",
       "        vertical-align: middle;\n",
       "    }\n",
       "\n",
       "    .dataframe tbody tr th {\n",
       "        vertical-align: top;\n",
       "    }\n",
       "\n",
       "    .dataframe thead th {\n",
       "        text-align: right;\n",
       "    }\n",
       "</style>\n",
       "<table border=\"1\" class=\"dataframe\">\n",
       "  <thead>\n",
       "    <tr style=\"text-align: right;\">\n",
       "      <th>inadimplente</th>\n",
       "      <th>0</th>\n",
       "      <th>1</th>\n",
       "    </tr>\n",
       "    <tr>\n",
       "      <th>produto_solicitado</th>\n",
       "      <th></th>\n",
       "      <th></th>\n",
       "    </tr>\n",
       "  </thead>\n",
       "  <tbody>\n",
       "    <tr>\n",
       "      <th>1</th>\n",
       "      <td>0.503437</td>\n",
       "      <td>0.496563</td>\n",
       "    </tr>\n",
       "    <tr>\n",
       "      <th>2</th>\n",
       "      <td>0.496099</td>\n",
       "      <td>0.503901</td>\n",
       "    </tr>\n",
       "    <tr>\n",
       "      <th>7</th>\n",
       "      <td>0.409594</td>\n",
       "      <td>0.590406</td>\n",
       "    </tr>\n",
       "  </tbody>\n",
       "</table>\n",
       "</div>"
      ],
      "text/plain": [
       "inadimplente               0         1\n",
       "produto_solicitado                    \n",
       "1                   0.503437  0.496563\n",
       "2                   0.496099  0.503901\n",
       "7                   0.409594  0.590406"
      ]
     },
     "execution_count": 231,
     "metadata": {},
     "output_type": "execute_result"
    }
   ],
   "source": [
    "#cria uma tabela de proporções normalizada pelos Index que nesse caso são os PRODUTOS_SOLICITADOS\n",
    "tabela_produto_solicitado = pd.crosstab(train['produto_solicitado'], train['inadimplente'], normalize=\"index\")\n",
    "tabela_produto_solicitado"
   ]
  },
  {
   "cell_type": "markdown",
   "metadata": {},
   "source": [
    "- Na tabela acima podemos observar separadamente a proporção de inadimplentes em cada classe da coluna PRODUTO_SOLICITADO.\n",
    "- A classe 7 (Empréstimo Consignado) vemos que a proporção de INADIMPLENTES é um pouco maior que NÃO INADIMPLENTES.\n",
    "- Nas classes 1 (CARTÃO DE CRÉDITO) e 2 (EMPRÉSTIMO PESSOAL) não observamos uma diferença significativa na proporção de NÃO INADIMPLENTES e INADIMPLENTES.\n",
    "-\n",
    "- RESUMO: Separa as classes da coluna PRODUTO_SOLICITADO e mede a proporção entra NÃO INADIMPLENTES e INADIMPLENTES nessas classes."
   ]
  },
  {
   "cell_type": "markdown",
   "metadata": {},
   "source": [
    "GRÁFICO DE BARRAS POR CLASSE NA COLUNA INADIMPLENTE\n",
    "- A hipótese é a seguinte...há alguma diferença significativamente estatística o tipo de produto solicitado e o nível de inadimplência ? "
   ]
  },
  {
   "cell_type": "code",
   "execution_count": 594,
   "metadata": {},
   "outputs": [
    {
     "data": {
      "text/plain": [
       "<Figure size 360x360 with 0 Axes>"
      ]
     },
     "metadata": {},
     "output_type": "display_data"
    },
    {
     "data": {
      "image/png": "[encoded data removed]",
      "text/plain": [
       "<Figure size 720x288 with 1 Axes>"
      ]
     },
     "metadata": {
      "needs_background": "light"
     },
     "output_type": "display_data"
    }
   ],
   "source": [
    "tabela_produto_solicitado.plot(kind='bar', width=0.2, color=['#6b8e23', '#ff6666'],figsize=(10,4))\n",
    "plt.title('Proporção de inadimplência por classes da coluna PRODUTO_SOLICIDADO', fontdict={'fontsize':12})\n",
    "plt.ylabel('Proporção')\n",
    "plt.xlabel('Classes - Produtos Solicitados')\n",
    "plt.show()"
   ]
  },
  {
   "cell_type": "markdown",
   "metadata": {},
   "source": [
    "- O gráfico nos ajuda a ver as proporções de forma mais clara."
   ]
  },
  {
   "cell_type": "markdown",
   "metadata": {},
   "source": [
    "### 3) dia_vencimento"
   ]
  },
  {
   "cell_type": "code",
   "execution_count": 313,
   "metadata": {},
   "outputs": [
    {
     "data": {
      "text/plain": [
       "10    7847\n",
       "15    3557\n",
       "25    3089\n",
       "5     2825\n",
       "20    1952\n",
       "1      730\n",
       "Name: dia_vencimento, dtype: int64"
      ]
     },
     "execution_count": 313,
     "metadata": {},
     "output_type": "execute_result"
    }
   ],
   "source": [
    "train['dia_vencimento'].value_counts()"
   ]
  },
  {
   "cell_type": "code",
   "execution_count": 362,
   "metadata": {},
   "outputs": [
    {
     "data": {
      "text/plain": [
       "10    0.39235\n",
       "15    0.17785\n",
       "25    0.15445\n",
       "5     0.14125\n",
       "20    0.09760\n",
       "1     0.03650\n",
       "Name: dia_vencimento, dtype: float64"
      ]
     },
     "execution_count": 362,
     "metadata": {},
     "output_type": "execute_result"
    }
   ],
   "source": [
    "train['dia_vencimento'].value_counts(normalize=True)"
   ]
  },
  {
   "cell_type": "markdown",
   "metadata": {},
   "source": [
    "- Podemos observar uma quantidade superior de vencimentos no dia 10, no gráfico de barras abaixo poderemos observar melhor."
   ]
  },
  {
   "cell_type": "code",
   "execution_count": 696,
   "metadata": {},
   "outputs": [
    {
     "data": {
      "image/png": "[encoded data removed]",
      "text/plain": [
       "<Figure size 504x288 with 1 Axes>"
      ]
     },
     "metadata": {},
     "output_type": "display_data"
    }
   ],
   "source": [
    "fig = plt.figure(figsize=(7,4))\n",
    "train['dia_vencimento'].value_counts().plot.bar(color='#b8860b')\n",
    "plt.xlabel('Classes - Dias de vencimento')\n",
    "plt.ylabel('Contagem')\n",
    "plt.show()"
   ]
  },
  {
   "cell_type": "markdown",
   "metadata": {},
   "source": [
    "- Podemos observar que o dia 10 tem uma frequência maior e isso pode indicar proximidade ao dia do pagamento"
   ]
  },
  {
   "cell_type": "code",
   "execution_count": 314,
   "metadata": {},
   "outputs": [
    {
     "data": {
      "text/html": [
       "<div>\n",
       "<style scoped>\n",
       "    .dataframe tbody tr th:only-of-type {\n",
       "        vertical-align: middle;\n",
       "    }\n",
       "\n",
       "    .dataframe tbody tr th {\n",
       "        vertical-align: top;\n",
       "    }\n",
       "\n",
       "    .dataframe thead th {\n",
       "        text-align: right;\n",
       "    }\n",
       "</style>\n",
       "<table border=\"1\" class=\"dataframe\">\n",
       "  <thead>\n",
       "    <tr style=\"text-align: right;\">\n",
       "      <th>inadimplente</th>\n",
       "      <th>0</th>\n",
       "      <th>1</th>\n",
       "    </tr>\n",
       "    <tr>\n",
       "      <th>dia_vencimento</th>\n",
       "      <th></th>\n",
       "      <th></th>\n",
       "    </tr>\n",
       "  </thead>\n",
       "  <tbody>\n",
       "    <tr>\n",
       "      <th>1</th>\n",
       "      <td>0.487671</td>\n",
       "      <td>0.512329</td>\n",
       "    </tr>\n",
       "    <tr>\n",
       "      <th>5</th>\n",
       "      <td>0.541947</td>\n",
       "      <td>0.458053</td>\n",
       "    </tr>\n",
       "    <tr>\n",
       "      <th>10</th>\n",
       "      <td>0.536893</td>\n",
       "      <td>0.463107</td>\n",
       "    </tr>\n",
       "    <tr>\n",
       "      <th>15</th>\n",
       "      <td>0.481867</td>\n",
       "      <td>0.518133</td>\n",
       "    </tr>\n",
       "    <tr>\n",
       "      <th>20</th>\n",
       "      <td>0.455943</td>\n",
       "      <td>0.544057</td>\n",
       "    </tr>\n",
       "    <tr>\n",
       "      <th>25</th>\n",
       "      <td>0.419553</td>\n",
       "      <td>0.580447</td>\n",
       "    </tr>\n",
       "  </tbody>\n",
       "</table>\n",
       "</div>"
      ],
      "text/plain": [
       "inadimplente           0         1\n",
       "dia_vencimento                    \n",
       "1               0.487671  0.512329\n",
       "5               0.541947  0.458053\n",
       "10              0.536893  0.463107\n",
       "15              0.481867  0.518133\n",
       "20              0.455943  0.544057\n",
       "25              0.419553  0.580447"
      ]
     },
     "execution_count": 314,
     "metadata": {},
     "output_type": "execute_result"
    }
   ],
   "source": [
    "tabela_dia_pagamento = pd.crosstab(train['dia_vencimento'], train['inadimplente'], normalize='index')\n",
    "tabela_dia_pagamento"
   ]
  },
  {
   "cell_type": "markdown",
   "metadata": {},
   "source": [
    "Insights:\n",
    "- Podemos observar uma tendência de maior taxa de INADIMPLÊNCIA nos pagamentos que são efetuados a partir da metade do mês\n",
    "- Hipótese 1: Será que os clientes que pagam nos dias 5 e 10 são assalariados? e por causa disso tem uma \"estabilidade\" maior em suas contas?\n",
    "- Nos pagamentos do dia 1 notamos uma tendência maior a INADIMPLÊNCIA, isso se dá pela proximidade ao dia 25? Onde observamos o maios desbalanço entre as classes "
   ]
  },
  {
   "cell_type": "code",
   "execution_count": 595,
   "metadata": {},
   "outputs": [
    {
     "data": {
      "text/plain": [
       "Text(0.5, 0, 'Classes - Dias de vencimento')"
      ]
     },
     "execution_count": 595,
     "metadata": {},
     "output_type": "execute_result"
    },
    {
     "data": {
      "image/png": "[encoded data removed]",
      "text/plain": [
       "<Figure size 864x288 with 1 Axes>"
      ]
     },
     "metadata": {
      "needs_background": "light"
     },
     "output_type": "display_data"
    }
   ],
   "source": [
    "tabela_dia_pagamento.plot(kind='bar',width=0.4, color=['#6b8e23', '#ff6666'], figsize=(12,4))\n",
    "plt.title('Proporção de inadimplência por classes da coluna DIA_VENCIMENTO', fontdict={'fontsize':13})\n",
    "plt.ylabel('Proporção')\n",
    "plt.xlabel('Classes - Dias de vencimento')"
   ]
  },
  {
   "cell_type": "markdown",
   "metadata": {},
   "source": [
    "- Como já observamos na tabela a partir do meio do mês o número de INADIMPLENTES vai aumentando"
   ]
  },
  {
   "cell_type": "markdown",
   "metadata": {},
   "source": [
    "- Temos um grande desbalanco entre as classes\n",
    "- Hipótese: Criando dummies com essas classes melhora o desempenho do nosso modelo ?"
   ]
  },
  {
   "cell_type": "markdown",
   "metadata": {},
   "source": [
    "### 4) forma_envio_solicitacao"
   ]
  },
  {
   "cell_type": "code",
   "execution_count": 360,
   "metadata": {},
   "outputs": [
    {
     "data": {
      "text/plain": [
       "internet      11264\n",
       "presencial     7855\n",
       "correio         881\n",
       "Name: forma_envio_solicitacao, dtype: int64"
      ]
     },
     "execution_count": 360,
     "metadata": {},
     "output_type": "execute_result"
    }
   ],
   "source": [
    "train['forma_envio_solicitacao'].value_counts()"
   ]
  },
  {
   "cell_type": "code",
   "execution_count": 359,
   "metadata": {},
   "outputs": [
    {
     "data": {
      "text/plain": [
       "internet      0.56320\n",
       "presencial    0.39275\n",
       "correio       0.04405\n",
       "Name: forma_envio_solicitacao, dtype: float64"
      ]
     },
     "execution_count": 359,
     "metadata": {},
     "output_type": "execute_result"
    }
   ],
   "source": [
    "train['forma_envio_solicitacao'].value_counts(normalize=True)"
   ]
  },
  {
   "cell_type": "code",
   "execution_count": 695,
   "metadata": {},
   "outputs": [
    {
     "data": {
      "image/png": "[encoded data removed]",
      "text/plain": [
       "<Figure size 576x288 with 1 Axes>"
      ]
     },
     "metadata": {},
     "output_type": "display_data"
    }
   ],
   "source": [
    "#gráfico de barras vai nos ajudar a visualizar melhor as classes\n",
    "fig = plt.figure(figsize=(8,4))\n",
    "train['forma_envio_solicitacao'].value_counts().plot.bar(width=0.3, color='#b8860b')\n",
    "plt.ylabel('Contagem')\n",
    "plt.show()"
   ]
  },
  {
   "cell_type": "code",
   "execution_count": 379,
   "metadata": {},
   "outputs": [
    {
     "data": {
      "text/html": [
       "<div>\n",
       "<style scoped>\n",
       "    .dataframe tbody tr th:only-of-type {\n",
       "        vertical-align: middle;\n",
       "    }\n",
       "\n",
       "    .dataframe tbody tr th {\n",
       "        vertical-align: top;\n",
       "    }\n",
       "\n",
       "    .dataframe thead th {\n",
       "        text-align: right;\n",
       "    }\n",
       "</style>\n",
       "<table border=\"1\" class=\"dataframe\">\n",
       "  <thead>\n",
       "    <tr style=\"text-align: right;\">\n",
       "      <th>inadimplente</th>\n",
       "      <th>0</th>\n",
       "      <th>1</th>\n",
       "    </tr>\n",
       "    <tr>\n",
       "      <th>forma_envio_solicitacao</th>\n",
       "      <th></th>\n",
       "      <th></th>\n",
       "    </tr>\n",
       "  </thead>\n",
       "  <tbody>\n",
       "    <tr>\n",
       "      <th>correio</th>\n",
       "      <td>0.02380</td>\n",
       "      <td>0.02025</td>\n",
       "    </tr>\n",
       "    <tr>\n",
       "      <th>internet</th>\n",
       "      <td>0.28315</td>\n",
       "      <td>0.28005</td>\n",
       "    </tr>\n",
       "    <tr>\n",
       "      <th>presencial</th>\n",
       "      <td>0.19305</td>\n",
       "      <td>0.19970</td>\n",
       "    </tr>\n",
       "  </tbody>\n",
       "</table>\n",
       "</div>"
      ],
      "text/plain": [
       "inadimplente                   0        1\n",
       "forma_envio_solicitacao                  \n",
       "correio                  0.02380  0.02025\n",
       "internet                 0.28315  0.28005\n",
       "presencial               0.19305  0.19970"
      ]
     },
     "execution_count": 379,
     "metadata": {},
     "output_type": "execute_result"
    }
   ],
   "source": [
    "tabela_forma_envio_solicitacao = pd.crosstab(train['forma_envio_solicitacao'], train['inadimplente'], normalize=True)\n",
    "tabela_forma_envio_solicitacao"
   ]
  },
  {
   "cell_type": "code",
   "execution_count": 604,
   "metadata": {},
   "outputs": [
    {
     "data": {
      "image/png": "[encoded data removed]",
      "text/plain": [
       "<Figure size 720x288 with 1 Axes>"
      ]
     },
     "metadata": {
      "needs_background": "light"
     },
     "output_type": "display_data"
    }
   ],
   "source": [
    "tabela_forma_envio_solicitacao.plot(kind='bar',width=0.3, figsize=(10,4), color=['#6b8e23', '#ff6666'])\n",
    "plt.ylabel('Proporções')\n",
    "plt.xlabel('Classes - Forma de Envio ou Solicitação')\n",
    "plt.show()"
   ]
  },
  {
   "cell_type": "markdown",
   "metadata": {},
   "source": [
    "Insights e Hipóteses:\n",
    "- As classes INTERNET e PRESENCIAL estão bem balanceadas, no entando a classe CORREIO tem uma quantidade menor de inadimplentes\n",
    "- Hipótese: Será que pessoas mais velhas usam o mais os correios e por isso há esse desbalanço nas classes da coluna INADIMPLENTE"
   ]
  },
  {
   "cell_type": "markdown",
   "metadata": {},
   "source": [
    "### 5) tipo_endereco"
   ]
  },
  {
   "cell_type": "code",
   "execution_count": 361,
   "metadata": {},
   "outputs": [
    {
     "data": {
      "text/plain": [
       "1    19873\n",
       "2      127\n",
       "Name: tipo_endereco, dtype: int64"
      ]
     },
     "execution_count": 361,
     "metadata": {},
     "output_type": "execute_result"
    }
   ],
   "source": [
    "train['tipo_endereco'].value_counts()"
   ]
  },
  {
   "cell_type": "code",
   "execution_count": 355,
   "metadata": {},
   "outputs": [
    {
     "data": {
      "text/plain": [
       "1    0.99365\n",
       "2    0.00635\n",
       "Name: tipo_endereco, dtype: float64"
      ]
     },
     "execution_count": 355,
     "metadata": {},
     "output_type": "execute_result"
    }
   ],
   "source": [
    "train['tipo_endereco'].value_counts(normalize=True)"
   ]
  },
  {
   "cell_type": "code",
   "execution_count": 615,
   "metadata": {},
   "outputs": [
    {
     "data": {
      "image/png": "[encoded data removed]",
      "text/plain": [
       "<Figure size 288x288 with 1 Axes>"
      ]
     },
     "metadata": {},
     "output_type": "display_data"
    }
   ],
   "source": [
    "matplotlib.style.use('fivethirtyeight')\n",
    "fig = plt.figure(figsize=(4,4))\n",
    "train['tipo_endereco'].value_counts().plot.pie()\n",
    "plt.title('tipo_endereco')\n",
    "plt.ylabel('')\n",
    "plt.show()"
   ]
  },
  {
   "cell_type": "markdown",
   "metadata": {},
   "source": [
    "- A classe 1 tem a maioria dos valores"
   ]
  },
  {
   "cell_type": "code",
   "execution_count": 378,
   "metadata": {},
   "outputs": [
    {
     "data": {
      "text/html": [
       "<div>\n",
       "<style scoped>\n",
       "    .dataframe tbody tr th:only-of-type {\n",
       "        vertical-align: middle;\n",
       "    }\n",
       "\n",
       "    .dataframe tbody tr th {\n",
       "        vertical-align: top;\n",
       "    }\n",
       "\n",
       "    .dataframe thead th {\n",
       "        text-align: right;\n",
       "    }\n",
       "</style>\n",
       "<table border=\"1\" class=\"dataframe\">\n",
       "  <thead>\n",
       "    <tr style=\"text-align: right;\">\n",
       "      <th>inadimplente</th>\n",
       "      <th>0</th>\n",
       "      <th>1</th>\n",
       "    </tr>\n",
       "    <tr>\n",
       "      <th>tipo_endereco</th>\n",
       "      <th></th>\n",
       "      <th></th>\n",
       "    </tr>\n",
       "  </thead>\n",
       "  <tbody>\n",
       "    <tr>\n",
       "      <th>1</th>\n",
       "      <td>0.499824</td>\n",
       "      <td>0.500176</td>\n",
       "    </tr>\n",
       "    <tr>\n",
       "      <th>2</th>\n",
       "      <td>0.527559</td>\n",
       "      <td>0.472441</td>\n",
       "    </tr>\n",
       "  </tbody>\n",
       "</table>\n",
       "</div>"
      ],
      "text/plain": [
       "inadimplente          0         1\n",
       "tipo_endereco                    \n",
       "1              0.499824  0.500176\n",
       "2              0.527559  0.472441"
      ]
     },
     "execution_count": 378,
     "metadata": {},
     "output_type": "execute_result"
    }
   ],
   "source": [
    "tabela_tipo_endereco = pd.crosstab(train['tipo_endereco'], train['inadimplente'],normalize='index')\n",
    "tabela_tipo_endereco"
   ]
  },
  {
   "cell_type": "code",
   "execution_count": 583,
   "metadata": {},
   "outputs": [
    {
     "data": {
      "image/png": "[encoded data removed]",
      "text/plain": [
       "<Figure size 576x288 with 1 Axes>"
      ]
     },
     "metadata": {
      "needs_background": "light"
     },
     "output_type": "display_data"
    }
   ],
   "source": [
    "tabela_tipo_endereco.plot(kind='bar', width=0.2,figsize=(8,4), color=['#6b8e23', '#ff6666'])\n",
    "plt.title('tipo_endereco')\n",
    "plt.show()"
   ]
  },
  {
   "cell_type": "markdown",
   "metadata": {},
   "source": [
    "- A CLASSE 1 da coluna TIPO_ENDERECO está bem balanceada diferentemente da CLASSE 2 que tem um pequeno desbalanço.\n",
    "- Hipótese: Será que criando um dummie com a classe 2 para alimentar nosso modelo teremos um melhor desempenho?\n",
    "- A classe 2 tem um pequeno desbalanço, mas essa classe representa 0.6% dos valores então não sei se adicionaria muita informação ao nosso modelo"
   ]
  },
  {
   "cell_type": "markdown",
   "metadata": {},
   "source": [
    "### 6) sexo"
   ]
  },
  {
   "cell_type": "code",
   "execution_count": 363,
   "metadata": {},
   "outputs": [
    {
     "data": {
      "text/plain": [
       "F    12246\n",
       "M     7722\n",
       "N       25\n",
       "         7\n",
       "Name: sexo, dtype: int64"
      ]
     },
     "execution_count": 363,
     "metadata": {},
     "output_type": "execute_result"
    }
   ],
   "source": [
    "train['sexo'].value_counts()"
   ]
  },
  {
   "cell_type": "code",
   "execution_count": 364,
   "metadata": {},
   "outputs": [
    {
     "data": {
      "text/plain": [
       "F    0.61230\n",
       "M    0.38610\n",
       "N    0.00125\n",
       "     0.00035\n",
       "Name: sexo, dtype: float64"
      ]
     },
     "execution_count": 364,
     "metadata": {},
     "output_type": "execute_result"
    }
   ],
   "source": [
    "train['sexo'].value_counts(normalize=True)"
   ]
  },
  {
   "cell_type": "code",
   "execution_count": 694,
   "metadata": {},
   "outputs": [
    {
     "data": {
      "image/png": "[encoded data removed]",
      "text/plain": [
       "<Figure size 288x288 with 1 Axes>"
      ]
     },
     "metadata": {},
     "output_type": "display_data"
    },
    {
     "data": {
      "image/png": "[encoded data removed]",
      "text/plain": [
       "<Figure size 432x216 with 1 Axes>"
      ]
     },
     "metadata": {},
     "output_type": "display_data"
    }
   ],
   "source": [
    "query_sexo = train.query('sexo ==\"F\" or sexo==\"M\"')\n",
    "fig=plt.figure(figsize=(4,4))\n",
    "query_sexo['sexo'].value_counts().plot.pie()\n",
    "fig=plt.figure(figsize=(6,3))\n",
    "query_sexo['sexo'].value_counts().plot.bar(width=0.3, color='#b8860b')\n",
    "plt.show()"
   ]
  },
  {
   "cell_type": "code",
   "execution_count": 396,
   "metadata": {},
   "outputs": [
    {
     "data": {
      "text/plain": [
       "F    12246\n",
       "M     7722\n",
       "Name: sexo, dtype: int64"
      ]
     },
     "execution_count": 396,
     "metadata": {},
     "output_type": "execute_result"
    }
   ],
   "source": [
    "query_sexo = train.query('sexo ==\"F\" or sexo==\"M\"')\n",
    "query['sexo'].value_counts()"
   ]
  },
  {
   "cell_type": "code",
   "execution_count": 409,
   "metadata": {},
   "outputs": [
    {
     "data": {
      "text/html": [
       "<div>\n",
       "<style scoped>\n",
       "    .dataframe tbody tr th:only-of-type {\n",
       "        vertical-align: middle;\n",
       "    }\n",
       "\n",
       "    .dataframe tbody tr th {\n",
       "        vertical-align: top;\n",
       "    }\n",
       "\n",
       "    .dataframe thead th {\n",
       "        text-align: right;\n",
       "    }\n",
       "</style>\n",
       "<table border=\"1\" class=\"dataframe\">\n",
       "  <thead>\n",
       "    <tr style=\"text-align: right;\">\n",
       "      <th>inadimplente</th>\n",
       "      <th>0</th>\n",
       "      <th>1</th>\n",
       "    </tr>\n",
       "    <tr>\n",
       "      <th>sexo</th>\n",
       "      <th></th>\n",
       "      <th></th>\n",
       "    </tr>\n",
       "  </thead>\n",
       "  <tbody>\n",
       "    <tr>\n",
       "      <th>F</th>\n",
       "      <td>0.511841</td>\n",
       "      <td>0.488159</td>\n",
       "    </tr>\n",
       "    <tr>\n",
       "      <th>M</th>\n",
       "      <td>0.481481</td>\n",
       "      <td>0.518519</td>\n",
       "    </tr>\n",
       "  </tbody>\n",
       "</table>\n",
       "</div>"
      ],
      "text/plain": [
       "inadimplente         0         1\n",
       "sexo                            \n",
       "F             0.511841  0.488159\n",
       "M             0.481481  0.518519"
      ]
     },
     "execution_count": 409,
     "metadata": {},
     "output_type": "execute_result"
    }
   ],
   "source": [
    "query_sexo = train.query(' sexo ==\"F\" or sexo==\"M\" ')\n",
    "tabela_sexo = pd.crosstab(query_sexo['sexo'], train['inadimplente'], normalize='index')\n",
    "tabela_sexo"
   ]
  },
  {
   "cell_type": "code",
   "execution_count": 580,
   "metadata": {},
   "outputs": [
    {
     "data": {
      "image/png": "[encoded data removed]",
      "text/plain": [
       "<Figure size 504x288 with 1 Axes>"
      ]
     },
     "metadata": {
      "needs_background": "light"
     },
     "output_type": "display_data"
    }
   ],
   "source": [
    "tabela_sexo.plot(kind='bar', figsize=(7,4), width=0.2, color=['#6b8e23', '#ff6666'])\n",
    "plt.title('Proporção de INADIMPLENTES por SEXO ',fontdict={'fontsize':12})\n",
    "plt.show()"
   ]
  },
  {
   "cell_type": "markdown",
   "metadata": {},
   "source": [
    "Insights:\n",
    "- Ambos os sexos tem um desbalanço na quantidade de inadimplências, o sexo F tende a ser menos inadimplente que o sexo M.\n"
   ]
  },
  {
   "cell_type": "markdown",
   "metadata": {},
   "source": [
    "### 7) idade"
   ]
  },
  {
   "cell_type": "code",
   "execution_count": 415,
   "metadata": {},
   "outputs": [
    {
     "data": {
      "text/plain": [
       "count    20000.000000\n",
       "mean        42.352500\n",
       "std         14.930177\n",
       "min          7.000000\n",
       "25%         31.000000\n",
       "50%         40.000000\n",
       "75%         52.000000\n",
       "max        106.000000\n",
       "Name: idade, dtype: float64"
      ]
     },
     "execution_count": 415,
     "metadata": {},
     "output_type": "execute_result"
    }
   ],
   "source": [
    "train['idade'].describe()"
   ]
  },
  {
   "cell_type": "markdown",
   "metadata": {},
   "source": [
    "- Valor Central: 42.35\n",
    "- Desvio Padrão: 14.93"
   ]
  },
  {
   "cell_type": "code",
   "execution_count": 456,
   "metadata": {},
   "outputs": [
    {
     "data": {
      "image/png": "[encoded data removed]",
      "text/plain": [
       "<Figure size 400x400 with 1 Axes>"
      ]
     },
     "metadata": {},
     "output_type": "display_data"
    }
   ],
   "source": [
    "fig=plt.figure(figsize=(5,5))\n",
    "ax = sns.distplot(a=train['idade'], color='green',bins=30, kde=False)"
   ]
  },
  {
   "cell_type": "markdown",
   "metadata": {},
   "source": [
    "- A distribuição parece ser normal visualmente, mas vamos executar um teste de normalidade para saber exatamente."
   ]
  },
  {
   "cell_type": "markdown",
   "metadata": {},
   "source": [
    "def teste_normal(coluna):\n"
   ]
  },
  {
   "cell_type": "code",
   "execution_count": 514,
   "metadata": {},
   "outputs": [],
   "source": [
    "#criei essa função para avaliar a normalidade de algumas colunas\n",
    "def teste_normal(coluna):\n",
    "    from scipy.stats import normaltest\n",
    "    print('A hipótese H0 assume que a amostra É proveniente de uma distribuição normal.')\n",
    "    print('A hipósete H1 assume que a a mostra NÃO é proveniente de uma distribuição normal.')\n",
    "    print('')\n",
    "    print('significância = 0.05')\n",
    "    print('')\n",
    "    print('Se P_VALOR < SINIFICÂNCIA, H0 é refutada, não é normal.')\n",
    "    print('Se P_VALOR > SINIFICÂNCIA, H1 é refutada, é normal.')\n",
    "    print('')\n",
    "    print('')\n",
    "    stat_test, p_valor = normaltest(coluna)\n",
    "    if p_valor < 0.05:\n",
    "        print('p_valor = {}, H0 refutada, NÃO É NORMAL'.format(p_valor))\n",
    "    else:\n",
    "        print('p_valor = {}, H1 refutada, É NORMAL'.format(p_valor))"
   ]
  },
  {
   "cell_type": "code",
   "execution_count": 515,
   "metadata": {},
   "outputs": [
    {
     "name": "stdout",
     "output_type": "stream",
     "text": [
      "A hipótese H0 assume que a amostra É proveniente de uma distribuição normal.\n",
      "A hipósete H1 assume que a a mostra NÃO é proveniente de uma distribuição normal.\n",
      "\n",
      "significância = 0.05\n",
      "\n",
      "Se P_VALOR < SINIFICÂNCIA, H0 é refutada, não é normal.\n",
      "Se P_VALOR > SINIFICÂNCIA, H1 é refutada, é normal.\n",
      "\n",
      "\n",
      "p_valor = 3.133408646418246e-208, H0 refutada, NÃO É NORMAL\n"
     ]
    }
   ],
   "source": [
    "teste_normal(train['idade'])"
   ]
  },
  {
   "cell_type": "markdown",
   "metadata": {},
   "source": [
    "- Resultado inesperado, a amostra das colunas IDADE não é normal."
   ]
  },
  {
   "cell_type": "code",
   "execution_count": 731,
   "metadata": {},
   "outputs": [
    {
     "data": {
      "image/png": "[encoded data removed]",
      "text/plain": [
       "<Figure size 288x288 with 1 Axes>"
      ]
     },
     "metadata": {},
     "output_type": "display_data"
    }
   ],
   "source": [
    "#sabendo que nossa coluna IDADE é normal, podemos comparar as amostras pelas classes da coluna INADIMPLENTE.\n",
    "idade_inadimplente = train.query('inadimplente==1')\n",
    "idade_nao_inadimplente = train.query('inadimplente==0')\n",
    "plt.figure(figsize=(4,4))\n",
    "ax = sns.distplot(a=idade_inadimplente['idade'], color='red',bins=30, kde=False, norm_hist=True)\n",
    "ax2 = sns.distplot(a=idade_nao_inadimplente['idade'], color='blue',bins=30,kde=False, norm_hist=True)\n",
    "#plt.xlabel('Idade', fontdict=10)"
   ]
  },
  {
   "cell_type": "code",
   "execution_count": 745,
   "metadata": {},
   "outputs": [
    {
     "data": {
      "image/png": "[encoded data removed]",
      "text/plain": [
       "<Figure size 648x360 with 1 Axes>"
      ]
     },
     "metadata": {},
     "output_type": "display_data"
    }
   ],
   "source": [
    "fig=plt.figure(figsize=(9,5))\n",
    "sns.boxplot(x='inadimplente', y='idade', data=train)\n",
    "plt.show()"
   ]
  },
  {
   "cell_type": "markdown",
   "metadata": {},
   "source": [
    "- Os histogramas estão bem com os valores centrais bem próximos, mas não posso afirmar estatísticamente se  a mesma distribuição.\n",
    "- Hipótese: Será que a amostra de NÃO INADIMPLENTES e INADIMPLENTES são estatísticamente iguais?"
   ]
  },
  {
   "cell_type": "markdown",
   "metadata": {},
   "source": [
    "- Para responder a Hipótese podemos fazer um Teste de Hipóteses, no entanto esse teste tem como premissa a **NORMALIDADE** das amostras\n",
    "- Outra opção que temos são os testes não paramétricos que não precisam que a amostra seja normal para funcionar\n",
    "- Antes disso vou transformar os valores das colunas idade com LOG e RAIZ QUADRADA e refazer o teste de normalidade para ver se obtemos alguma melhore."
   ]
  },
  {
   "cell_type": "markdown",
   "metadata": {},
   "source": [
    "LOG1P"
   ]
  },
  {
   "cell_type": "code",
   "execution_count": 518,
   "metadata": {},
   "outputs": [],
   "source": [
    "#criando uma coluna com o (1 + log) nas linhas da coluna idade\n",
    "train['log1p_idade'] = train['idade'].map(lambda i : np.log1p(i))"
   ]
  },
  {
   "cell_type": "code",
   "execution_count": 520,
   "metadata": {},
   "outputs": [
    {
     "name": "stdout",
     "output_type": "stream",
     "text": [
      "A hipótese H0 assume que a amostra É proveniente de uma distribuição normal.\n",
      "A hipósete H1 assume que a a mostra NÃO é proveniente de uma distribuição normal.\n",
      "\n",
      "significância = 0.05\n",
      "\n",
      "Se P_VALOR < SINIFICÂNCIA, H0 é refutada, não é normal.\n",
      "Se P_VALOR > SINIFICÂNCIA, H1 é refutada, é normal.\n",
      "\n",
      "\n",
      "p_valor = 1.609832922320197e-191, H0 refutada, NÃO É NORMAL\n"
     ]
    }
   ],
   "source": [
    "teste_normal(train['log1p_idade'])"
   ]
  },
  {
   "cell_type": "markdown",
   "metadata": {},
   "source": [
    "LOG"
   ]
  },
  {
   "cell_type": "code",
   "execution_count": 517,
   "metadata": {},
   "outputs": [],
   "source": [
    "#criando uma coluna com o (log) nas linhas da coluna idade\n",
    "train['log_idade'] = train['idade'].map(lambda i : np.log(i))"
   ]
  },
  {
   "cell_type": "code",
   "execution_count": 540,
   "metadata": {},
   "outputs": [
    {
     "name": "stdout",
     "output_type": "stream",
     "text": [
      "A hipótese H0 assume que a amostra É proveniente de uma distribuição normal.\n",
      "A hipósete H1 assume que a a mostra NÃO é proveniente de uma distribuição normal.\n",
      "\n",
      "significância = 0.05\n",
      "\n",
      "Se P_VALOR < SINIFICÂNCIA, H0 é refutada, não é normal.\n",
      "Se P_VALOR > SINIFICÂNCIA, H1 é refutada, é normal.\n",
      "\n",
      "\n",
      "p_valor = 5.6699734861692946e-185, H0 refutada, NÃO É NORMAL\n"
     ]
    }
   ],
   "source": [
    "teste_normal(train['log_idade'])"
   ]
  },
  {
   "cell_type": "markdown",
   "metadata": {},
   "source": [
    "RAIZ QUADRADA"
   ]
  },
  {
   "cell_type": "code",
   "execution_count": 516,
   "metadata": {},
   "outputs": [],
   "source": [
    "#criando uma coluna com o (raiz quadrada) nas linhas da coluna idade\n",
    "train['sqrt_idade'] = train['idade'].map(lambda i : np.sqrt(i))"
   ]
  },
  {
   "cell_type": "code",
   "execution_count": 522,
   "metadata": {},
   "outputs": [
    {
     "name": "stdout",
     "output_type": "stream",
     "text": [
      "A hipótese H0 assume que a amostra É proveniente de uma distribuição normal.\n",
      "A hipósete H1 assume que a a mostra NÃO é proveniente de uma distribuição normal.\n",
      "\n",
      "significância = 0.05\n",
      "\n",
      "Se P_VALOR < SINIFICÂNCIA, H0 é refutada, não é normal.\n",
      "Se P_VALOR > SINIFICÂNCIA, H1 é refutada, é normal.\n",
      "\n",
      "\n",
      "p_valor = 5.787836350634461e-170, H0 refutada, NÃO É NORMAL\n"
     ]
    }
   ],
   "source": [
    "teste_normal(train['sqrt_idade'])"
   ]
  },
  {
   "cell_type": "markdown",
   "metadata": {},
   "source": [
    "- Nenhum dos testes nos ajudou significativamente, então continuaremos com os teste não paramétricos.\n"
   ]
  },
  {
   "cell_type": "markdown",
   "metadata": {},
   "source": [
    "### 8) estado_civil"
   ]
  },
  {
   "cell_type": "code",
   "execution_count": 543,
   "metadata": {},
   "outputs": [
    {
     "data": {
      "text/plain": [
       "2    10088\n",
       "1     6519\n",
       "4     1573\n",
       "6      763\n",
       "5      522\n",
       "3      234\n",
       "7      220\n",
       "0       81\n",
       "Name: estado_civil, dtype: int64"
      ]
     },
     "execution_count": 543,
     "metadata": {},
     "output_type": "execute_result"
    }
   ],
   "source": [
    "train['estado_civil'].value_counts()"
   ]
  },
  {
   "cell_type": "code",
   "execution_count": 709,
   "metadata": {},
   "outputs": [
    {
     "data": {
      "image/png": "[encoded data removed]",
      "text/plain": [
       "<Figure size 504x288 with 1 Axes>"
      ]
     },
     "metadata": {},
     "output_type": "display_data"
    }
   ],
   "source": [
    "train['estado_civil'].value_counts().plot(kind='bar', figsize=(7,4), color='#b8860b')\n",
    "plt.xlabel('Casses - Estado Civil')\n",
    "plt.ylabel('Proporções')\n",
    "plt.show()"
   ]
  },
  {
   "cell_type": "markdown",
   "metadata": {},
   "source": [
    "- Vemos uma prevalência na classe 2 pois representa mais da metade dos dados."
   ]
  },
  {
   "cell_type": "code",
   "execution_count": 563,
   "metadata": {},
   "outputs": [
    {
     "data": {
      "text/html": [
       "<div>\n",
       "<style scoped>\n",
       "    .dataframe tbody tr th:only-of-type {\n",
       "        vertical-align: middle;\n",
       "    }\n",
       "\n",
       "    .dataframe tbody tr th {\n",
       "        vertical-align: top;\n",
       "    }\n",
       "\n",
       "    .dataframe thead th {\n",
       "        text-align: right;\n",
       "    }\n",
       "</style>\n",
       "<table border=\"1\" class=\"dataframe\">\n",
       "  <thead>\n",
       "    <tr style=\"text-align: right;\">\n",
       "      <th>inadimplente</th>\n",
       "      <th>0</th>\n",
       "      <th>1</th>\n",
       "    </tr>\n",
       "    <tr>\n",
       "      <th>estado_civil</th>\n",
       "      <th></th>\n",
       "      <th></th>\n",
       "    </tr>\n",
       "  </thead>\n",
       "  <tbody>\n",
       "    <tr>\n",
       "      <th>0</th>\n",
       "      <td>0.543210</td>\n",
       "      <td>0.456790</td>\n",
       "    </tr>\n",
       "    <tr>\n",
       "      <th>1</th>\n",
       "      <td>0.453290</td>\n",
       "      <td>0.546710</td>\n",
       "    </tr>\n",
       "    <tr>\n",
       "      <th>2</th>\n",
       "      <td>0.520420</td>\n",
       "      <td>0.479580</td>\n",
       "    </tr>\n",
       "    <tr>\n",
       "      <th>3</th>\n",
       "      <td>0.542735</td>\n",
       "      <td>0.457265</td>\n",
       "    </tr>\n",
       "    <tr>\n",
       "      <th>4</th>\n",
       "      <td>0.571519</td>\n",
       "      <td>0.428481</td>\n",
       "    </tr>\n",
       "    <tr>\n",
       "      <th>5</th>\n",
       "      <td>0.517241</td>\n",
       "      <td>0.482759</td>\n",
       "    </tr>\n",
       "    <tr>\n",
       "      <th>6</th>\n",
       "      <td>0.448231</td>\n",
       "      <td>0.551769</td>\n",
       "    </tr>\n",
       "    <tr>\n",
       "      <th>7</th>\n",
       "      <td>0.513636</td>\n",
       "      <td>0.486364</td>\n",
       "    </tr>\n",
       "  </tbody>\n",
       "</table>\n",
       "</div>"
      ],
      "text/plain": [
       "inadimplente         0         1\n",
       "estado_civil                    \n",
       "0             0.543210  0.456790\n",
       "1             0.453290  0.546710\n",
       "2             0.520420  0.479580\n",
       "3             0.542735  0.457265\n",
       "4             0.571519  0.428481\n",
       "5             0.517241  0.482759\n",
       "6             0.448231  0.551769\n",
       "7             0.513636  0.486364"
      ]
     },
     "execution_count": 563,
     "metadata": {},
     "output_type": "execute_result"
    }
   ],
   "source": [
    "tabela_estado_civil = pd.crosstab(train['estado_civil'], train['inadimplente'], normalize='index')\n",
    "tabela_estado_civil"
   ]
  },
  {
   "cell_type": "code",
   "execution_count": 637,
   "metadata": {},
   "outputs": [
    {
     "data": {
      "image/png": "[encoded data removed]",
      "text/plain": [
       "<Figure size 864x432 with 1 Axes>"
      ]
     },
     "metadata": {},
     "output_type": "display_data"
    }
   ],
   "source": [
    "tabela_estado_civil.plot(kind='bar', figsize=(12,6), width=0.3, color=['#6b8e23', '#ff6666'])\n",
    "plt.xlabel('Classes - Estado Civil')\n",
    "plt.ylabel('Proporções')\n",
    "plt.show()"
   ]
  },
  {
   "cell_type": "markdown",
   "metadata": {},
   "source": [
    "Insights e Hipóteses:\n",
    "- Todos os estados civis apresentam um desbalanço entra as classes INADIMPLENTE, alguns pra NAO INADIMPLENTE e outros pra INADIMPLENTES"
   ]
  },
  {
   "cell_type": "markdown",
   "metadata": {},
   "source": [
    "### 9) Qtde_dependentes"
   ]
  },
  {
   "cell_type": "code",
   "execution_count": 626,
   "metadata": {},
   "outputs": [
    {
     "data": {
      "text/plain": [
       "0     13350\n",
       "1      2814\n",
       "2      2189\n",
       "3      1029\n",
       "4       352\n",
       "5       149\n",
       "6        57\n",
       "7        22\n",
       "8        14\n",
       "9         9\n",
       "10        7\n",
       "11        4\n",
       "13        2\n",
       "14        1\n",
       "53        1\n",
       "Name: qtde_dependentes, dtype: int64"
      ]
     },
     "execution_count": 626,
     "metadata": {},
     "output_type": "execute_result"
    }
   ],
   "source": [
    "train['qtde_dependentes'].value_counts()"
   ]
  },
  {
   "cell_type": "markdown",
   "metadata": {},
   "source": [
    "- O valor de quantidade de dependentes igual a 53 parece ser um outlier então o descartaremos para não atrappalhar nossas análises."
   ]
  },
  {
   "cell_type": "code",
   "execution_count": 655,
   "metadata": {},
   "outputs": [],
   "source": [
    "#filtrando o valor discrepante do dataframe\n",
    "query_qtde_dependentes = train.query('qtde_dependentes < 53')"
   ]
  },
  {
   "cell_type": "code",
   "execution_count": 687,
   "metadata": {},
   "outputs": [
    {
     "data": {
      "image/png": "[encoded data removed]",
      "text/plain": [
       "<Figure size 504x288 with 1 Axes>"
      ]
     },
     "metadata": {},
     "output_type": "display_data"
    }
   ],
   "source": [
    "query_qtde_dependentes['qtde_dependentes'].plot(kind='hist', figsize=(7,4),color='#b8860b')\n",
    "plt.xlabel('Classes - Quantidade de dependentes')\n",
    "plt.ylabel('Proporções')\n",
    "plt.show()"
   ]
  },
  {
   "cell_type": "markdown",
   "metadata": {},
   "source": []
  },
  {
   "cell_type": "code",
   "execution_count": 662,
   "metadata": {},
   "outputs": [
    {
     "data": {
      "image/png": "[encoded data removed]",
      "text/plain": [
       "<Figure size 504x288 with 1 Axes>"
      ]
     },
     "metadata": {},
     "output_type": "display_data"
    }
   ],
   "source": [
    "#sabendo que nossa coluna IDADE é normal, podemos comparar as amostras pelas classes da coluna INADIMPLENTE.\n",
    "idade_inadimplente = train.query('inadimplente==1 and qtde_dependentes < 53')\n",
    "idade_nao_inadimplente = train.query('inadimplente==0 and qtde_dependentes < 53')\n",
    "#ax1 = sns.distplot(a=idade_inadimplente['qtde_dependentes'], color='red',bins=30, kde=False, norm_hist=True)\n",
    "idade_nao_inadimplente['qtde_dependentes'].plot(kind='hist', figsize=(7,4),color='blue', alpha=0.3)\n",
    "#ax2 = sns.distplot(a=idade_nao_inadimplente['idade'], color='blue',bins=30,kde=False, norm_hist=True)\n",
    "idade_inadimplente['qtde_dependentes'].plot(kind='hist', figsize=(7,4),color='red', alpha=0.3)\n",
    "#plt.xlabel('Idade', fontdict=10)\n",
    "plt.show()"
   ]
  },
  {
   "cell_type": "code",
   "execution_count": 752,
   "metadata": {},
   "outputs": [
    {
     "data": {
      "image/png": "[encoded data removed]",
      "text/plain": [
       "<Figure size 360x360 with 1 Axes>"
      ]
     },
     "metadata": {},
     "output_type": "display_data"
    }
   ],
   "source": [
    "#ignorei os outliers para facilitar a visualização dos box\n",
    "fig = plt.figure(figsize=(5,5))\n",
    "sns.boxplot(x='inadimplente', y=train.query('qtde_dependentes < 4')['qtde_dependentes'], data=train)\n",
    "plt.show()"
   ]
  },
  {
   "cell_type": "markdown",
   "metadata": {},
   "source": [
    "- Os valores das classes separados por INADIMPLENTE e NAO INADIMPLENTE estão bem equilibrados.\n",
    "- O boxplot nos ajuda a visualizar melhor o equilíbrio."
   ]
  },
  {
   "cell_type": "markdown",
   "metadata": {},
   "source": [
    "### 10) grau_instrucao"
   ]
  },
  {
   "cell_type": "code",
   "execution_count": 671,
   "metadata": {},
   "outputs": [
    {
     "data": {
      "text/plain": [
       "0    20000\n",
       "Name: grau_instrucao, dtype: int64"
      ]
     },
     "execution_count": 671,
     "metadata": {},
     "output_type": "execute_result"
    }
   ],
   "source": [
    "train['grau_instrucao'].value_counts()"
   ]
  },
  {
   "cell_type": "markdown",
   "metadata": {},
   "source": [
    "- Essa coluna contém apenas valores nulos, logo não há utilidade em usa-la"
   ]
  },
  {
   "cell_type": "markdown",
   "metadata": {},
   "source": [
    "### 11) nacionalidade"
   ]
  },
  {
   "cell_type": "code",
   "execution_count": 674,
   "metadata": {},
   "outputs": [
    {
     "data": {
      "text/plain": [
       "1    19152\n",
       "0      808\n",
       "2       40\n",
       "Name: nacionalidade, dtype: int64"
      ]
     },
     "execution_count": 674,
     "metadata": {},
     "output_type": "execute_result"
    }
   ],
   "source": [
    "train['nacionalidade'].value_counts()"
   ]
  },
  {
   "cell_type": "code",
   "execution_count": 676,
   "metadata": {},
   "outputs": [
    {
     "data": {
      "text/plain": [
       "1    0.9576\n",
       "0    0.0404\n",
       "2    0.0020\n",
       "Name: nacionalidade, dtype: float64"
      ]
     },
     "execution_count": 676,
     "metadata": {},
     "output_type": "execute_result"
    }
   ],
   "source": [
    "train['nacionalidade'].value_counts(normalize='index')"
   ]
  },
  {
   "cell_type": "markdown",
   "metadata": {},
   "source": [
    "- a nacionalidade de classe 1 representa a maioria dos valores, acredito que a classe 1 represente a nacionalidade brasileira."
   ]
  },
  {
   "cell_type": "code",
   "execution_count": 710,
   "metadata": {},
   "outputs": [
    {
     "data": {
      "image/png": "[encoded data removed]",
      "text/plain": [
       "<Figure size 576x288 with 1 Axes>"
      ]
     },
     "metadata": {},
     "output_type": "display_data"
    },
    {
     "data": {
      "image/png": "[encoded data removed]",
      "text/plain": [
       "<Figure size 648x288 with 1 Axes>"
      ]
     },
     "metadata": {},
     "output_type": "display_data"
    }
   ],
   "source": [
    "train['nacionalidade'].value_counts().plot(kind='pie', figsize=(8,4))\n",
    "plt.title('nacionalidade')\n",
    "plt.ylabel('')\n",
    "plt.show()\n",
    "train['nacionalidade'].value_counts().plot(kind='bar', width=0.3, figsize=(9,4), color='#b8860b')\n",
    "#plt.title()\n",
    "plt.xlabel('Classes - Nacionalidade')\n",
    "plt.ylabel('Contagem')\n",
    "plt.show()"
   ]
  },
  {
   "cell_type": "code",
   "execution_count": 714,
   "metadata": {},
   "outputs": [
    {
     "data": {
      "text/html": [
       "<div>\n",
       "<style scoped>\n",
       "    .dataframe tbody tr th:only-of-type {\n",
       "        vertical-align: middle;\n",
       "    }\n",
       "\n",
       "    .dataframe tbody tr th {\n",
       "        vertical-align: top;\n",
       "    }\n",
       "\n",
       "    .dataframe thead th {\n",
       "        text-align: right;\n",
       "    }\n",
       "</style>\n",
       "<table border=\"1\" class=\"dataframe\">\n",
       "  <thead>\n",
       "    <tr style=\"text-align: right;\">\n",
       "      <th>inadimplente</th>\n",
       "      <th>0</th>\n",
       "      <th>1</th>\n",
       "    </tr>\n",
       "    <tr>\n",
       "      <th>nacionalidade</th>\n",
       "      <th></th>\n",
       "      <th></th>\n",
       "    </tr>\n",
       "  </thead>\n",
       "  <tbody>\n",
       "    <tr>\n",
       "      <th>0</th>\n",
       "      <td>0.501238</td>\n",
       "      <td>0.498762</td>\n",
       "    </tr>\n",
       "    <tr>\n",
       "      <th>1</th>\n",
       "      <td>0.499948</td>\n",
       "      <td>0.500052</td>\n",
       "    </tr>\n",
       "    <tr>\n",
       "      <th>2</th>\n",
       "      <td>0.500000</td>\n",
       "      <td>0.500000</td>\n",
       "    </tr>\n",
       "  </tbody>\n",
       "</table>\n",
       "</div>"
      ],
      "text/plain": [
       "inadimplente          0         1\n",
       "nacionalidade                    \n",
       "0              0.501238  0.498762\n",
       "1              0.499948  0.500052\n",
       "2              0.500000  0.500000"
      ]
     },
     "execution_count": 714,
     "metadata": {},
     "output_type": "execute_result"
    }
   ],
   "source": [
    "tabela_nacionalidade = pd.crosstab(train['nacionalidade'], train['inadimplente'], normalize='index')\n",
    "tabela_nacionalidade"
   ]
  },
  {
   "cell_type": "code",
   "execution_count": 719,
   "metadata": {},
   "outputs": [
    {
     "data": {
      "image/png": "[encoded data removed]",
      "text/plain": [
       "<Figure size 648x288 with 1 Axes>"
      ]
     },
     "metadata": {},
     "output_type": "display_data"
    }
   ],
   "source": [
    "tabela_nacionalidade.plot(kind='bar',width=0.3, figsize=(9,4))\n",
    "plt.show()"
   ]
  },
  {
   "cell_type": "markdown",
   "metadata": {},
   "source": [
    "- As classes estão bem balanceadas, principalmente a classe 1 que representa a maioria dos dados."
   ]
  },
  {
   "cell_type": "markdown",
   "metadata": {},
   "source": [
    "### 12) estado_onde_nasceu"
   ]
  },
  {
   "cell_type": "code",
   "execution_count": 720,
   "metadata": {},
   "outputs": [
    {
     "data": {
      "text/plain": [
       "BA    2351\n",
       "SP    2336\n",
       "RS    1919\n",
       "CE    1910\n",
       "PE    1651\n",
       "MG    1446\n",
       "RN     827\n",
       "       822\n",
       "PR     764\n",
       "RJ     720\n",
       "AL     678\n",
       "PA     676\n",
       "PB     608\n",
       "MA     577\n",
       "GO     460\n",
       "MT     375\n",
       "PI     284\n",
       "SC     271\n",
       "ES     251\n",
       "MS     199\n",
       "AC     192\n",
       "SE     153\n",
       "AM     147\n",
       "DF     131\n",
       "AP     102\n",
       "TO      82\n",
       "RO      53\n",
       "RR      15\n",
       "Name: estado_onde_nasceu, dtype: int64"
      ]
     },
     "execution_count": 720,
     "metadata": {},
     "output_type": "execute_result"
    }
   ],
   "source": [
    "train['estado_onde_nasceu'].value_counts()"
   ]
  },
  {
   "cell_type": "code",
   "execution_count": null,
   "metadata": {},
   "outputs": [],
   "source": []
  },
  {
   "cell_type": "code",
   "execution_count": null,
   "metadata": {},
   "outputs": [],
   "source": []
  },
  {
   "cell_type": "code",
   "execution_count": null,
   "metadata": {},
   "outputs": [],
   "source": []
  },
  {
   "cell_type": "code",
   "execution_count": 477,
   "metadata": {},
   "outputs": [
    {
     "name": "stdout",
     "output_type": "stream",
     "text": [
      "<class 'pandas.core.frame.DataFrame'>\n",
      "RangeIndex: 20000 entries, 0 to 19999\n",
      "Data columns (total 42 columns):\n",
      " #   Column                            Non-Null Count  Dtype  \n",
      "---  ------                            --------------  -----  \n",
      " 0   id_solicitante                    20000 non-null  int64  \n",
      " 1   produto_solicitado                20000 non-null  int64  \n",
      " 2   dia_vencimento                    20000 non-null  int64  \n",
      " 3   forma_envio_solicitacao           20000 non-null  object \n",
      " 4   tipo_endereco                     20000 non-null  int64  \n",
      " 5   sexo                              20000 non-null  object \n",
      " 6   idade                             20000 non-null  int64  \n",
      " 7   estado_civil                      20000 non-null  int64  \n",
      " 8   qtde_dependentes                  20000 non-null  int64  \n",
      " 9   grau_instrucao                    20000 non-null  int64  \n",
      " 10  nacionalidade                     20000 non-null  int64  \n",
      " 11  estado_onde_nasceu                20000 non-null  object \n",
      " 12  estado_onde_reside                20000 non-null  object \n",
      " 13  possui_telefone_residencial       20000 non-null  object \n",
      " 14  codigo_area_telefone_residencial  20000 non-null  object \n",
      " 15  tipo_residencia                   19464 non-null  float64\n",
      " 16  meses_na_residencia               18550 non-null  float64\n",
      " 17  possui_telefone_celular           20000 non-null  object \n",
      " 18  possui_email                      20000 non-null  int64  \n",
      " 19  renda_mensal_regular              20000 non-null  float64\n",
      " 20  renda_extra                       20000 non-null  float64\n",
      " 21  possui_cartao_visa                20000 non-null  int64  \n",
      " 22  possui_cartao_mastercard          20000 non-null  int64  \n",
      " 23  possui_cartao_diners              20000 non-null  int64  \n",
      " 24  possui_cartao_amex                20000 non-null  int64  \n",
      " 25  possui_outros_cartoes             20000 non-null  int64  \n",
      " 26  qtde_contas_bancarias             20000 non-null  int64  \n",
      " 27  qtde_contas_bancarias_especiais   20000 non-null  int64  \n",
      " 28  valor_patrimonio_pessoal          20000 non-null  float64\n",
      " 29  possui_carro                      20000 non-null  int64  \n",
      " 30  vinculo_formal_com_empresa        20000 non-null  object \n",
      " 31  estado_onde_trabalha              20000 non-null  object \n",
      " 32  possui_telefone_trabalho          20000 non-null  object \n",
      " 33  codigo_area_telefone_trabalho     20000 non-null  object \n",
      " 34  meses_no_trabalho                 20000 non-null  int64  \n",
      " 35  profissao                         16903 non-null  float64\n",
      " 36  ocupacao                          17022 non-null  float64\n",
      " 37  profissao_companheiro             8486 non-null   float64\n",
      " 38  grau_instrucao_companheiro        7140 non-null   float64\n",
      " 39  local_onde_reside                 20000 non-null  float64\n",
      " 40  local_onde_trabalha               20000 non-null  float64\n",
      " 41  inadimplente                      20000 non-null  int64  \n",
      "dtypes: float64(11), int64(20), object(11)\n",
      "memory usage: 6.4+ MB\n"
     ]
    }
   ],
   "source": [
    "\n",
    "train.info()"
   ]
  },
  {
   "cell_type": "code",
   "execution_count": 489,
   "metadata": {},
   "outputs": [],
   "source": [
    "df = train[['produto_solicitado', 'dia_vencimento', 'profissao', 'ocupacao', 'inadimplente']]\n",
    "df= df.fillna(-1)"
   ]
  },
  {
   "cell_type": "code",
   "execution_count": 486,
   "metadata": {},
   "outputs": [
    {
     "name": "stdout",
     "output_type": "stream",
     "text": [
      "<class 'pandas.core.frame.DataFrame'>\n",
      "RangeIndex: 20000 entries, 0 to 19999\n",
      "Data columns (total 7 columns):\n",
      " #   Column               Non-Null Count  Dtype  \n",
      "---  ------               --------------  -----  \n",
      " 0   produto_solicitado   20000 non-null  int64  \n",
      " 1   dia_vencimento       20000 non-null  int64  \n",
      " 2   profissao            20000 non-null  float64\n",
      " 3   ocupacao             20000 non-null  float64\n",
      " 4   local_onde_reside    20000 non-null  float64\n",
      " 5   local_onde_trabalha  20000 non-null  float64\n",
      " 6   inadimplente         20000 non-null  int64  \n",
      "dtypes: float64(4), int64(3)\n",
      "memory usage: 1.1 MB\n"
     ]
    }
   ],
   "source": [
    "df.info()"
   ]
  },
  {
   "cell_type": "code",
   "execution_count": 499,
   "metadata": {},
   "outputs": [
    {
     "data": {
      "text/html": [
       "<div>\n",
       "<style scoped>\n",
       "    .dataframe tbody tr th:only-of-type {\n",
       "        vertical-align: middle;\n",
       "    }\n",
       "\n",
       "    .dataframe tbody tr th {\n",
       "        vertical-align: top;\n",
       "    }\n",
       "\n",
       "    .dataframe thead th {\n",
       "        text-align: right;\n",
       "    }\n",
       "</style>\n",
       "<table border=\"1\" class=\"dataframe\">\n",
       "  <thead>\n",
       "    <tr style=\"text-align: right;\">\n",
       "      <th></th>\n",
       "      <th>x</th>\n",
       "      <th>y</th>\n",
       "      <th>ppscore</th>\n",
       "      <th>case</th>\n",
       "      <th>is_valid_score</th>\n",
       "      <th>metric</th>\n",
       "      <th>baseline_score</th>\n",
       "      <th>model_score</th>\n",
       "      <th>model</th>\n",
       "    </tr>\n",
       "  </thead>\n",
       "  <tbody>\n",
       "    <tr>\n",
       "      <th>0</th>\n",
       "      <td>produto_solicitado</td>\n",
       "      <td>produto_solicitado</td>\n",
       "      <td>1.000000</td>\n",
       "      <td>predict_itself</td>\n",
       "      <td>True</td>\n",
       "      <td>None</td>\n",
       "      <td>0.0000</td>\n",
       "      <td>1.000000</td>\n",
       "      <td>None</td>\n",
       "    </tr>\n",
       "    <tr>\n",
       "      <th>1</th>\n",
       "      <td>produto_solicitado</td>\n",
       "      <td>dia_vencimento</td>\n",
       "      <td>0.000000</td>\n",
       "      <td>regression</td>\n",
       "      <td>True</td>\n",
       "      <td>mean absolute error</td>\n",
       "      <td>5.2392</td>\n",
       "      <td>5.653620</td>\n",
       "      <td>DecisionTreeRegressor()</td>\n",
       "    </tr>\n",
       "    <tr>\n",
       "      <th>2</th>\n",
       "      <td>produto_solicitado</td>\n",
       "      <td>profissao</td>\n",
       "      <td>0.000000</td>\n",
       "      <td>regression</td>\n",
       "      <td>True</td>\n",
       "      <td>mean absolute error</td>\n",
       "      <td>2.8906</td>\n",
       "      <td>3.870089</td>\n",
       "      <td>DecisionTreeRegressor()</td>\n",
       "    </tr>\n",
       "    <tr>\n",
       "      <th>3</th>\n",
       "      <td>produto_solicitado</td>\n",
       "      <td>ocupacao</td>\n",
       "      <td>0.000000</td>\n",
       "      <td>regression</td>\n",
       "      <td>True</td>\n",
       "      <td>mean absolute error</td>\n",
       "      <td>1.4330</td>\n",
       "      <td>1.445610</td>\n",
       "      <td>DecisionTreeRegressor()</td>\n",
       "    </tr>\n",
       "    <tr>\n",
       "      <th>4</th>\n",
       "      <td>produto_solicitado</td>\n",
       "      <td>inadimplente</td>\n",
       "      <td>0.000000</td>\n",
       "      <td>regression</td>\n",
       "      <td>True</td>\n",
       "      <td>mean absolute error</td>\n",
       "      <td>0.4926</td>\n",
       "      <td>0.499272</td>\n",
       "      <td>DecisionTreeRegressor()</td>\n",
       "    </tr>\n",
       "    <tr>\n",
       "      <th>5</th>\n",
       "      <td>dia_vencimento</td>\n",
       "      <td>produto_solicitado</td>\n",
       "      <td>0.000000</td>\n",
       "      <td>regression</td>\n",
       "      <td>True</td>\n",
       "      <td>mean absolute error</td>\n",
       "      <td>0.2672</td>\n",
       "      <td>0.455918</td>\n",
       "      <td>DecisionTreeRegressor()</td>\n",
       "    </tr>\n",
       "    <tr>\n",
       "      <th>6</th>\n",
       "      <td>dia_vencimento</td>\n",
       "      <td>dia_vencimento</td>\n",
       "      <td>1.000000</td>\n",
       "      <td>predict_itself</td>\n",
       "      <td>True</td>\n",
       "      <td>None</td>\n",
       "      <td>0.0000</td>\n",
       "      <td>1.000000</td>\n",
       "      <td>None</td>\n",
       "    </tr>\n",
       "    <tr>\n",
       "      <th>7</th>\n",
       "      <td>dia_vencimento</td>\n",
       "      <td>profissao</td>\n",
       "      <td>0.000000</td>\n",
       "      <td>regression</td>\n",
       "      <td>True</td>\n",
       "      <td>mean absolute error</td>\n",
       "      <td>2.8906</td>\n",
       "      <td>3.870134</td>\n",
       "      <td>DecisionTreeRegressor()</td>\n",
       "    </tr>\n",
       "    <tr>\n",
       "      <th>8</th>\n",
       "      <td>dia_vencimento</td>\n",
       "      <td>ocupacao</td>\n",
       "      <td>0.000000</td>\n",
       "      <td>regression</td>\n",
       "      <td>True</td>\n",
       "      <td>mean absolute error</td>\n",
       "      <td>1.4330</td>\n",
       "      <td>1.465682</td>\n",
       "      <td>DecisionTreeRegressor()</td>\n",
       "    </tr>\n",
       "    <tr>\n",
       "      <th>9</th>\n",
       "      <td>dia_vencimento</td>\n",
       "      <td>inadimplente</td>\n",
       "      <td>0.000000</td>\n",
       "      <td>regression</td>\n",
       "      <td>True</td>\n",
       "      <td>mean absolute error</td>\n",
       "      <td>0.4926</td>\n",
       "      <td>0.497179</td>\n",
       "      <td>DecisionTreeRegressor()</td>\n",
       "    </tr>\n",
       "    <tr>\n",
       "      <th>10</th>\n",
       "      <td>profissao</td>\n",
       "      <td>produto_solicitado</td>\n",
       "      <td>0.000000</td>\n",
       "      <td>regression</td>\n",
       "      <td>True</td>\n",
       "      <td>mean absolute error</td>\n",
       "      <td>0.2672</td>\n",
       "      <td>0.455033</td>\n",
       "      <td>DecisionTreeRegressor()</td>\n",
       "    </tr>\n",
       "    <tr>\n",
       "      <th>11</th>\n",
       "      <td>profissao</td>\n",
       "      <td>dia_vencimento</td>\n",
       "      <td>0.000000</td>\n",
       "      <td>regression</td>\n",
       "      <td>True</td>\n",
       "      <td>mean absolute error</td>\n",
       "      <td>5.2392</td>\n",
       "      <td>5.648654</td>\n",
       "      <td>DecisionTreeRegressor()</td>\n",
       "    </tr>\n",
       "    <tr>\n",
       "      <th>12</th>\n",
       "      <td>profissao</td>\n",
       "      <td>profissao</td>\n",
       "      <td>1.000000</td>\n",
       "      <td>predict_itself</td>\n",
       "      <td>True</td>\n",
       "      <td>None</td>\n",
       "      <td>0.0000</td>\n",
       "      <td>1.000000</td>\n",
       "      <td>None</td>\n",
       "    </tr>\n",
       "    <tr>\n",
       "      <th>13</th>\n",
       "      <td>profissao</td>\n",
       "      <td>ocupacao</td>\n",
       "      <td>0.139723</td>\n",
       "      <td>regression</td>\n",
       "      <td>True</td>\n",
       "      <td>mean absolute error</td>\n",
       "      <td>1.4330</td>\n",
       "      <td>1.232777</td>\n",
       "      <td>DecisionTreeRegressor()</td>\n",
       "    </tr>\n",
       "    <tr>\n",
       "      <th>14</th>\n",
       "      <td>profissao</td>\n",
       "      <td>inadimplente</td>\n",
       "      <td>0.000000</td>\n",
       "      <td>regression</td>\n",
       "      <td>True</td>\n",
       "      <td>mean absolute error</td>\n",
       "      <td>0.4926</td>\n",
       "      <td>0.500087</td>\n",
       "      <td>DecisionTreeRegressor()</td>\n",
       "    </tr>\n",
       "    <tr>\n",
       "      <th>15</th>\n",
       "      <td>ocupacao</td>\n",
       "      <td>produto_solicitado</td>\n",
       "      <td>0.000000</td>\n",
       "      <td>regression</td>\n",
       "      <td>True</td>\n",
       "      <td>mean absolute error</td>\n",
       "      <td>0.2672</td>\n",
       "      <td>0.454536</td>\n",
       "      <td>DecisionTreeRegressor()</td>\n",
       "    </tr>\n",
       "    <tr>\n",
       "      <th>16</th>\n",
       "      <td>ocupacao</td>\n",
       "      <td>dia_vencimento</td>\n",
       "      <td>0.000000</td>\n",
       "      <td>regression</td>\n",
       "      <td>True</td>\n",
       "      <td>mean absolute error</td>\n",
       "      <td>5.2392</td>\n",
       "      <td>5.531641</td>\n",
       "      <td>DecisionTreeRegressor()</td>\n",
       "    </tr>\n",
       "    <tr>\n",
       "      <th>17</th>\n",
       "      <td>ocupacao</td>\n",
       "      <td>profissao</td>\n",
       "      <td>0.318808</td>\n",
       "      <td>regression</td>\n",
       "      <td>True</td>\n",
       "      <td>mean absolute error</td>\n",
       "      <td>2.8906</td>\n",
       "      <td>1.969055</td>\n",
       "      <td>DecisionTreeRegressor()</td>\n",
       "    </tr>\n",
       "    <tr>\n",
       "      <th>18</th>\n",
       "      <td>ocupacao</td>\n",
       "      <td>ocupacao</td>\n",
       "      <td>1.000000</td>\n",
       "      <td>predict_itself</td>\n",
       "      <td>True</td>\n",
       "      <td>None</td>\n",
       "      <td>0.0000</td>\n",
       "      <td>1.000000</td>\n",
       "      <td>None</td>\n",
       "    </tr>\n",
       "    <tr>\n",
       "      <th>19</th>\n",
       "      <td>ocupacao</td>\n",
       "      <td>inadimplente</td>\n",
       "      <td>0.000000</td>\n",
       "      <td>regression</td>\n",
       "      <td>True</td>\n",
       "      <td>mean absolute error</td>\n",
       "      <td>0.4926</td>\n",
       "      <td>0.497651</td>\n",
       "      <td>DecisionTreeRegressor()</td>\n",
       "    </tr>\n",
       "    <tr>\n",
       "      <th>20</th>\n",
       "      <td>inadimplente</td>\n",
       "      <td>produto_solicitado</td>\n",
       "      <td>0.000000</td>\n",
       "      <td>regression</td>\n",
       "      <td>True</td>\n",
       "      <td>mean absolute error</td>\n",
       "      <td>0.2672</td>\n",
       "      <td>0.455506</td>\n",
       "      <td>DecisionTreeRegressor()</td>\n",
       "    </tr>\n",
       "    <tr>\n",
       "      <th>21</th>\n",
       "      <td>inadimplente</td>\n",
       "      <td>dia_vencimento</td>\n",
       "      <td>0.000000</td>\n",
       "      <td>regression</td>\n",
       "      <td>True</td>\n",
       "      <td>mean absolute error</td>\n",
       "      <td>5.2392</td>\n",
       "      <td>5.627980</td>\n",
       "      <td>DecisionTreeRegressor()</td>\n",
       "    </tr>\n",
       "    <tr>\n",
       "      <th>22</th>\n",
       "      <td>inadimplente</td>\n",
       "      <td>profissao</td>\n",
       "      <td>0.000000</td>\n",
       "      <td>regression</td>\n",
       "      <td>True</td>\n",
       "      <td>mean absolute error</td>\n",
       "      <td>2.8906</td>\n",
       "      <td>3.869751</td>\n",
       "      <td>DecisionTreeRegressor()</td>\n",
       "    </tr>\n",
       "    <tr>\n",
       "      <th>23</th>\n",
       "      <td>inadimplente</td>\n",
       "      <td>ocupacao</td>\n",
       "      <td>0.000000</td>\n",
       "      <td>regression</td>\n",
       "      <td>True</td>\n",
       "      <td>mean absolute error</td>\n",
       "      <td>1.4330</td>\n",
       "      <td>1.450184</td>\n",
       "      <td>DecisionTreeRegressor()</td>\n",
       "    </tr>\n",
       "    <tr>\n",
       "      <th>24</th>\n",
       "      <td>inadimplente</td>\n",
       "      <td>inadimplente</td>\n",
       "      <td>1.000000</td>\n",
       "      <td>predict_itself</td>\n",
       "      <td>True</td>\n",
       "      <td>None</td>\n",
       "      <td>0.0000</td>\n",
       "      <td>1.000000</td>\n",
       "      <td>None</td>\n",
       "    </tr>\n",
       "  </tbody>\n",
       "</table>\n",
       "</div>"
      ],
      "text/plain": [
       "                     x                   y   ppscore            case  \\\n",
       "0   produto_solicitado  produto_solicitado  1.000000  predict_itself   \n",
       "1   produto_solicitado      dia_vencimento  0.000000      regression   \n",
       "2   produto_solicitado           profissao  0.000000      regression   \n",
       "3   produto_solicitado            ocupacao  0.000000      regression   \n",
       "4   produto_solicitado        inadimplente  0.000000      regression   \n",
       "5       dia_vencimento  produto_solicitado  0.000000      regression   \n",
       "6       dia_vencimento      dia_vencimento  1.000000  predict_itself   \n",
       "7       dia_vencimento           profissao  0.000000      regression   \n",
       "8       dia_vencimento            ocupacao  0.000000      regression   \n",
       "9       dia_vencimento        inadimplente  0.000000      regression   \n",
       "10           profissao  produto_solicitado  0.000000      regression   \n",
       "11           profissao      dia_vencimento  0.000000      regression   \n",
       "12           profissao           profissao  1.000000  predict_itself   \n",
       "13           profissao            ocupacao  0.139723      regression   \n",
       "14           profissao        inadimplente  0.000000      regression   \n",
       "15            ocupacao  produto_solicitado  0.000000      regression   \n",
       "16            ocupacao      dia_vencimento  0.000000      regression   \n",
       "17            ocupacao           profissao  0.318808      regression   \n",
       "18            ocupacao            ocupacao  1.000000  predict_itself   \n",
       "19            ocupacao        inadimplente  0.000000      regression   \n",
       "20        inadimplente  produto_solicitado  0.000000      regression   \n",
       "21        inadimplente      dia_vencimento  0.000000      regression   \n",
       "22        inadimplente           profissao  0.000000      regression   \n",
       "23        inadimplente            ocupacao  0.000000      regression   \n",
       "24        inadimplente        inadimplente  1.000000  predict_itself   \n",
       "\n",
       "    is_valid_score               metric  baseline_score  model_score  \\\n",
       "0             True                 None          0.0000     1.000000   \n",
       "1             True  mean absolute error          5.2392     5.653620   \n",
       "2             True  mean absolute error          2.8906     3.870089   \n",
       "3             True  mean absolute error          1.4330     1.445610   \n",
       "4             True  mean absolute error          0.4926     0.499272   \n",
       "5             True  mean absolute error          0.2672     0.455918   \n",
       "6             True                 None          0.0000     1.000000   \n",
       "7             True  mean absolute error          2.8906     3.870134   \n",
       "8             True  mean absolute error          1.4330     1.465682   \n",
       "9             True  mean absolute error          0.4926     0.497179   \n",
       "10            True  mean absolute error          0.2672     0.455033   \n",
       "11            True  mean absolute error          5.2392     5.648654   \n",
       "12            True                 None          0.0000     1.000000   \n",
       "13            True  mean absolute error          1.4330     1.232777   \n",
       "14            True  mean absolute error          0.4926     0.500087   \n",
       "15            True  mean absolute error          0.2672     0.454536   \n",
       "16            True  mean absolute error          5.2392     5.531641   \n",
       "17            True  mean absolute error          2.8906     1.969055   \n",
       "18            True                 None          0.0000     1.000000   \n",
       "19            True  mean absolute error          0.4926     0.497651   \n",
       "20            True  mean absolute error          0.2672     0.455506   \n",
       "21            True  mean absolute error          5.2392     5.627980   \n",
       "22            True  mean absolute error          2.8906     3.869751   \n",
       "23            True  mean absolute error          1.4330     1.450184   \n",
       "24            True                 None          0.0000     1.000000   \n",
       "\n",
       "                      model  \n",
       "0                      None  \n",
       "1   DecisionTreeRegressor()  \n",
       "2   DecisionTreeRegressor()  \n",
       "3   DecisionTreeRegressor()  \n",
       "4   DecisionTreeRegressor()  \n",
       "5   DecisionTreeRegressor()  \n",
       "6                      None  \n",
       "7   DecisionTreeRegressor()  \n",
       "8   DecisionTreeRegressor()  \n",
       "9   DecisionTreeRegressor()  \n",
       "10  DecisionTreeRegressor()  \n",
       "11  DecisionTreeRegressor()  \n",
       "12                     None  \n",
       "13  DecisionTreeRegressor()  \n",
       "14  DecisionTreeRegressor()  \n",
       "15  DecisionTreeRegressor()  \n",
       "16  DecisionTreeRegressor()  \n",
       "17  DecisionTreeRegressor()  \n",
       "18                     None  \n",
       "19  DecisionTreeRegressor()  \n",
       "20  DecisionTreeRegressor()  \n",
       "21  DecisionTreeRegressor()  \n",
       "22  DecisionTreeRegressor()  \n",
       "23  DecisionTreeRegressor()  \n",
       "24                     None  "
      ]
     },
     "execution_count": 499,
     "metadata": {},
     "output_type": "execute_result"
    }
   ],
   "source": [
    "pps.matrix(df)"
   ]
  },
  {
   "cell_type": "code",
   "execution_count": null,
   "metadata": {},
   "outputs": [],
   "source": []
  }
 ],
 "metadata": {
  "kernelspec": {
   "display_name": "Python 3",
   "language": "python",
   "name": "python3"
  },
  "language_info": {
   "codemirror_mode": {
    "name": "ipython",
    "version": 3
   },
   "file_extension": ".py",
   "mimetype": "text/x-python",
   "name": "python",
   "nbconvert_exporter": "python",
   "pygments_lexer": "ipython3",
   "version": "3.8.3"
  }
 },
 "nbformat": 4,
 "nbformat_minor": 4
}
